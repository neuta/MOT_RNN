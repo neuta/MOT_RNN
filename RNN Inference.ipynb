{
 "cells": [
  {
   "cell_type": "markdown",
   "id": "e4113804",
   "metadata": {},
   "source": [
    "# Library"
   ]
  },
  {
   "cell_type": "code",
   "execution_count": 23,
   "id": "92608d43",
   "metadata": {
    "ExecuteTime": {
     "end_time": "2022-03-25T16:59:12.098569Z",
     "start_time": "2022-03-25T16:59:12.096060Z"
    }
   },
   "outputs": [],
   "source": [
    "import torch\n",
    "import torch.nn as nn\n",
    "import torch.optim as optim\n",
    "from torch.autograd import Variable"
   ]
  },
  {
   "cell_type": "markdown",
   "id": "ae9ee181",
   "metadata": {},
   "source": [
    "# Data"
   ]
  },
  {
   "cell_type": "code",
   "execution_count": 15,
   "id": "da5a8476",
   "metadata": {
    "ExecuteTime": {
     "end_time": "2022-03-25T16:53:47.652949Z",
     "start_time": "2022-03-25T16:53:47.631666Z"
    }
   },
   "outputs": [
    {
     "name": "stdout",
     "output_type": "stream",
     "text": [
      "torch.Size([133, 5, 9]) <class 'torch.Tensor'>\n",
      "torch.Size([133, 9]) <class 'torch.Tensor'>\n",
      "------------------------------------------------------------\n",
      "torch.Size([133, 5, 7])\n",
      "torch.Size([133, 7])\n",
      "------------------------------------------------------------\n",
      "torch.Size([133, 1, 5, 7])\n",
      "torch.Size([133, 1, 7])\n"
     ]
    }
   ],
   "source": [
    "X_Data = np.loadtxt(\"X_Training.txt\", dtype=np.float32)\n",
    "Y_Data = np.loadtxt(\"Y_Training.txt\", dtype=np.float32)\n",
    "\n",
    "Features = 9 # Information: Frame, Track ID, 3D Dimensions (H, W, L), 3D Location (X,Y,Z), Rotation Y\n",
    "X_Data = X_Data.reshape(X_Data.shape[0], X_Data.shape[1] // Features, Features)\n",
    "\n",
    "X_Data = torch.tensor(X_Data)\n",
    "Y_Data = torch.tensor(Y_Data)\n",
    "\n",
    "print(X_Data.shape, type(X_Data))\n",
    "print(Y_Data.shape, type(Y_Data))\n",
    "print('-'.center(60,'-'))\n",
    "# Information: 3D Dimensions (H, W, L), 3D Location (X,Y,Z), Rotation Y\n",
    "X_Data = X_Data[:,:,2:9]\n",
    "Y_Data = Y_Data[:,2:9]\n",
    "\n",
    "print(X_Data.shape)\n",
    "print(Y_Data.shape)\n",
    "\n",
    "# Train Data\n",
    "print('-'.center(60,'-'))\n",
    "batch_size = 133\n",
    "lote = 1\n",
    "\n",
    "XT_Data = X_Data.reshape(int(batch_size/lote),lote,5,7)\n",
    "YT_Data = Y_Data.reshape(int(batch_size/lote),lote,7)\n",
    "print(XT_Data.shape)\n",
    "print(YT_Data.shape)\n",
    "\n",
    "X_train = XT_Data[:100]\n",
    "X_test  = XT_Data[101:]\n",
    "y_train = YT_Data[:100]\n",
    "y_test  = YT_Data[101:]"
   ]
  },
  {
   "cell_type": "markdown",
   "id": "ead74ef4",
   "metadata": {},
   "source": [
    "# Model"
   ]
  },
  {
   "cell_type": "code",
   "execution_count": 5,
   "id": "f9433944",
   "metadata": {
    "ExecuteTime": {
     "end_time": "2022-03-25T16:44:24.978095Z",
     "start_time": "2022-03-25T16:44:24.972262Z"
    }
   },
   "outputs": [],
   "source": [
    "class RNNModel(nn.Module):\n",
    "    \n",
    "    def __init__(self, input_dim, hidden_dim, layer_dim, output_dim):\n",
    "        \n",
    "        super(RNNModel, self).__init__()\n",
    "        \n",
    "        self.hidden_dim = hidden_dim #Hidden Dimension\n",
    "        self.layer_dim = layer_dim # Number of hidden layers\n",
    "\n",
    "        self.rnn = nn.RNN(input_dim, hidden_dim, layer_dim, batch_first=True, nonlinearity='relu') #Building the RNN       \n",
    "        self.fc = nn.Linear(hidden_dim, output_dim) # Readout layer\n",
    "        \n",
    "    def forward(self, x):\n",
    "       \n",
    "        h0 = Variable(torch.zeros(self.layer_dim, x.size(0), self.hidden_dim))\n",
    "        out, hn = self.rnn(x, h0)\n",
    "        out = self.fc(out[:,-1,:])\n",
    "        \n",
    "        return out"
   ]
  },
  {
   "cell_type": "markdown",
   "id": "c3c5104e",
   "metadata": {},
   "source": [
    "## Parameters\n"
   ]
  },
  {
   "cell_type": "code",
   "execution_count": 7,
   "id": "dcd7d6fd",
   "metadata": {
    "ExecuteTime": {
     "end_time": "2022-03-25T16:45:33.834786Z",
     "start_time": "2022-03-25T16:45:33.828273Z"
    }
   },
   "outputs": [],
   "source": [
    "input_dim = 7\n",
    "hidden_dim = 150\n",
    "layer_dim = 1\n",
    "output_dim = 7\n",
    "batch_size = 25\n",
    "seq_dim = 5\n",
    "\n",
    "model = RNNModel(input_dim, hidden_dim, layer_dim, output_dim)\n",
    "\n",
    "criterion = nn.MSELoss()\n",
    "\n",
    "learning_rate = 0.001\n",
    "optimizer = torch.optim.SGD(model.parameters(), lr=learning_rate)"
   ]
  },
  {
   "cell_type": "markdown",
   "id": "71cf69a0",
   "metadata": {},
   "source": [
    "## Load Model"
   ]
  },
  {
   "cell_type": "code",
   "execution_count": 12,
   "id": "02a16a97",
   "metadata": {
    "ExecuteTime": {
     "end_time": "2022-03-25T16:52:19.634445Z",
     "start_time": "2022-03-25T16:52:19.628076Z"
    }
   },
   "outputs": [],
   "source": [
    "PATH = \"model.pth\"\n",
    "checkpoint = torch.load(PATH)\n",
    "model.load_state_dict(checkpoint['model_state_dict'])\n",
    "optimizer.load_state_dict(checkpoint['optimizer_state_dict'])\n",
    "epoch = checkpoint['epoch']\n",
    "loss = checkpoint['loss']\n",
    "\n",
    "# model.eval()\n",
    "# # - or -\n",
    "# model.train()\n",
    "\n"
   ]
  },
  {
   "cell_type": "code",
   "execution_count": 56,
   "id": "2c74587f",
   "metadata": {
    "ExecuteTime": {
     "end_time": "2022-03-25T18:04:44.294636Z",
     "start_time": "2022-03-25T18:04:44.289247Z"
    }
   },
   "outputs": [
    {
     "name": "stdout",
     "output_type": "stream",
     "text": [
      "133\n"
     ]
    }
   ],
   "source": [
    "pp = Y_Data\n",
    "\n",
    "\n",
    "pp = pp.reshape(133,1,7)\n",
    "print(pp.size()[0])"
   ]
  },
  {
   "cell_type": "code",
   "execution_count": 54,
   "id": "d00d904f",
   "metadata": {
    "ExecuteTime": {
     "end_time": "2022-03-25T18:03:14.915541Z",
     "start_time": "2022-03-25T18:03:14.909401Z"
    }
   },
   "outputs": [
    {
     "data": {
      "text/plain": [
       "torch.Size([133, 7])"
      ]
     },
     "execution_count": 54,
     "metadata": {},
     "output_type": "execute_result"
    }
   ],
   "source": [
    "model.eval()\n",
    "out4 = model(pp)\n",
    "out4.shape"
   ]
  },
  {
   "cell_type": "markdown",
   "id": "a1ea9b86",
   "metadata": {},
   "source": [
    "## Test model"
   ]
  },
  {
   "cell_type": "code",
   "execution_count": 71,
   "id": "1b40f48f",
   "metadata": {
    "ExecuteTime": {
     "end_time": "2022-03-25T20:32:50.462334Z",
     "start_time": "2022-03-25T20:32:50.452710Z"
    }
   },
   "outputs": [],
   "source": [
    "def validation(model, X_test, y_test, criterion):\n",
    "    \n",
    "    test_loss = 0\n",
    "    accuracy = 0\n",
    "\n",
    "    for inputs, labels in zip(X_test, y_test):\n",
    "        \n",
    "        inputs = inputs\n",
    "        output = model.forward(inputs)\n",
    "        test_loss += criterion(output, labels).item()\n",
    "        print('-'.center(80,'-'))\n",
    "        \n",
    "        print('x-1: ',inputs[0][4])        \n",
    "        print('y: ',labels)\n",
    "        print('x: ',output)\n",
    "        \n",
    "        ps = torch.exp(output)\n",
    "        \n",
    "        equality = (labels.data == ps.max(dim=1)[1])\n",
    "        accuracy += equality.type(torch.FloatTensor).mean() # IoU\n",
    "\n",
    "    return test_loss, accuracy"
   ]
  },
  {
   "cell_type": "code",
   "execution_count": 72,
   "id": "a3661dc6",
   "metadata": {
    "ExecuteTime": {
     "end_time": "2022-03-25T20:32:52.328643Z",
     "start_time": "2022-03-25T20:32:52.178814Z"
    }
   },
   "outputs": [
    {
     "name": "stdout",
     "output_type": "stream",
     "text": [
      "--------------------------------------------------------------------------------\n",
      "x-1:  tensor([ 1.5960,  1.6981,  3.5626,  2.3154,  1.5452, 10.0725, -1.6301])\n",
      "y:  tensor([[ 1.5960,  1.6981,  3.5626,  2.4311,  1.5646,  9.3605, -1.6179]])\n",
      "x:  tensor([[ 1.5596,  1.5776,  3.6180,  2.5095,  1.5932,  9.4397, -1.6428]],\n",
      "       grad_fn=<AddmmBackward>)\n",
      "--------------------------------------------------------------------------------\n",
      "x-1:  tensor([ 1.5000,  1.6750,  4.0267, -6.6190,  1.7619, 20.2679,  1.4115])\n",
      "y:  tensor([[ 1.5000,  1.6750,  4.0267, -7.0051,  1.7655, 19.6339,  1.3933]])\n",
      "x:  tensor([[ 1.6049,  1.6089,  4.1472, -6.7411,  1.9087, 19.5274,  1.4149]],\n",
      "       grad_fn=<AddmmBackward>)\n",
      "--------------------------------------------------------------------------------\n",
      "x-1:  tensor([ 1.5000,  1.6750,  4.0267, -7.8050,  1.9514, 16.8605,  1.3595])\n",
      "y:  tensor([[ 1.5000,  1.6750,  4.0267, -7.8807,  1.9966, 16.2139,  1.3511]])\n",
      "x:  tensor([[ 1.6738,  1.6136,  4.1745, -7.7488,  1.9191, 16.1336,  1.1639]],\n",
      "       grad_fn=<AddmmBackward>)\n",
      "--------------------------------------------------------------------------------\n",
      "x-1:  tensor([ 1.5000,  1.6750,  4.0267, -7.6016,  2.0047, 13.9903,  1.3737])\n",
      "y:  tensor([[ 1.5000,  1.6750,  4.0267, -7.4879,  1.9467, 13.4444,  1.3793]])\n",
      "x:  tensor([[ 1.7246,  1.6267,  4.2665, -7.5242,  1.8753, 13.3029,  1.1225]],\n",
      "       grad_fn=<AddmmBackward>)\n",
      "--------------------------------------------------------------------------------\n",
      "x-1:  tensor([ 1.5000,  1.6750,  4.0267, -6.7435,  1.9343, 11.3526,  1.4364])\n",
      "y:  tensor([[ 1.5000,  1.6750,  4.0267, -6.5574,  1.9312, 10.8296,  1.4506]])\n",
      "x:  tensor([[ 1.7104,  1.6129,  4.2964, -6.6997,  1.8044, 10.7043,  1.2027]],\n",
      "       grad_fn=<AddmmBackward>)\n",
      "--------------------------------------------------------------------------------\n",
      "x-1:  tensor([ 1.5000,  1.6750,  4.0267, -5.9499,  1.8498,  8.5571,  1.5034])\n",
      "y:  tensor([[ 1.5000,  1.6750,  4.0267, -5.7980,  1.8294,  7.9890,  1.5166]])\n",
      "x:  tensor([[ 1.6602,  1.5853,  4.3020, -5.9395,  1.7666,  7.8307,  1.2692]],\n",
      "       grad_fn=<AddmmBackward>)\n",
      "--------------------------------------------------------------------------------\n",
      "x-1:  tensor([ 1.5000,  1.6750,  4.0267, -5.4549,  1.7969,  5.6061,  1.5615])\n",
      "y:  tensor([[ 1.5000,  1.6750,  4.0267, -5.3692,  1.7887,  5.0104,  1.5727]])\n",
      "x:  tensor([[ 1.5329,  1.5529,  4.2351, -5.3488,  1.7375,  5.0563,  1.1840]],\n",
      "       grad_fn=<AddmmBackward>)\n",
      "--------------------------------------------------------------------------------\n",
      "x-1:  tensor([ 1.5240,  1.7286,  3.8942, -2.0073,  1.8606, 28.2789, -1.8636])\n",
      "y:  tensor([[ 1.5240,  1.7286,  3.8942, -2.1770,  1.8887, 27.7480, -1.8753]])\n",
      "x:  tensor([[ 1.5479,  1.8084,  3.9952, -2.3642,  1.8640, 27.5722, -1.8591]],\n",
      "       grad_fn=<AddmmBackward>)\n",
      "--------------------------------------------------------------------------------\n",
      "x-1:  tensor([ 1.5240,  1.7286,  3.8942, -2.2073,  1.8817, 25.3382, -1.8676])\n",
      "y:  tensor([[ 1.5240,  1.7286,  3.8942, -2.0529,  1.8502, 24.6642, -1.8521]])\n",
      "x:  tensor([[ 1.6039,  1.7540,  3.8761, -2.0576,  1.7584, 24.7606, -1.8537]],\n",
      "       grad_fn=<AddmmBackward>)\n",
      "--------------------------------------------------------------------------------\n",
      "x-1:  tensor([ 1.5240,  1.7286,  3.8942, -1.2496,  1.5976, 22.4164, -1.8250])\n",
      "y:  tensor([[ 1.5240,  1.7286,  3.8942, -0.9240,  1.6164, 21.7965, -1.8102]])\n",
      "x:  tensor([[ 1.5656,  1.7273,  3.8682, -0.9389,  1.6290, 21.9325, -1.7723]],\n",
      "       grad_fn=<AddmmBackward>)\n",
      "--------------------------------------------------------------------------------\n",
      "x-1:  tensor([ 1.5240,  1.7286,  3.8942,  0.3785,  1.6913, 19.3166, -1.7510])\n",
      "y:  tensor([[ 1.5240,  1.7286,  3.8942,  0.6288,  1.6599, 18.6515, -1.7375]])\n",
      "x:  tensor([[ 1.5604,  1.7309,  3.8539,  0.7667,  1.6018, 18.7194, -1.7369]],\n",
      "       grad_fn=<AddmmBackward>)\n",
      "--------------------------------------------------------------------------------\n",
      "x-1:  tensor([ 1.5240,  1.7286,  3.8942,  1.6299,  1.5342, 15.9908, -1.6836])\n",
      "y:  tensor([[ 1.5240,  1.7286,  3.8942,  1.7935,  1.5514, 15.2810, -1.6743]])\n",
      "x:  tensor([[ 1.5205,  1.7174,  3.8663,  1.9333,  1.5556, 15.3479, -1.6707]],\n",
      "       grad_fn=<AddmmBackward>)\n",
      "--------------------------------------------------------------------------------\n",
      "x-1:  tensor([ 1.7734,  1.7119,  4.3150, -9.0854,  2.2130, 22.1508,  1.3225])\n",
      "y:  tensor([[ 1.7734,  1.7119,  4.3150, -9.1575,  2.2066, 21.5353,  1.3136]])\n",
      "x:  tensor([[ 1.8170,  1.7514,  4.5032, -9.0303,  2.1445, 21.3552,  1.1623]],\n",
      "       grad_fn=<AddmmBackward>)\n",
      "--------------------------------------------------------------------------------\n",
      "x-1:  tensor([ 1.7734,  1.7119,  4.3150, -8.8437,  2.1396, 19.2174,  1.3289])\n",
      "y:  tensor([[ 1.7734,  1.7119,  4.3150, -8.6523,  2.0737, 18.6486,  1.3370]])\n",
      "x:  tensor([[ 1.8747,  1.7363,  4.4904, -8.6934,  2.0592, 18.5174,  1.1099]],\n",
      "       grad_fn=<AddmmBackward>)\n",
      "--------------------------------------------------------------------------------\n",
      "x-1:  tensor([ 1.7734,  1.7119,  4.3150, -7.6790,  1.9758, 16.5654,  1.3896])\n",
      "y:  tensor([[ 1.7734,  1.7119,  4.3150, -7.4098,  1.9826, 16.0179,  1.4044]])\n",
      "x:  tensor([[ 1.8754,  1.7196,  4.4937, -7.5459,  1.9479, 15.9464,  1.2155]],\n",
      "       grad_fn=<AddmmBackward>)\n",
      "--------------------------------------------------------------------------------\n",
      "x-1:  tensor([ 1.7734,  1.7119,  4.3150, -6.5118,  1.9055, 13.8358,  1.4603])\n",
      "y:  tensor([[ 1.7734,  1.7119,  4.3150, -6.3001,  1.8688, 13.2738,  1.4740]])\n",
      "x:  tensor([[ 1.8856,  1.7136,  4.4997, -6.4337,  1.8963, 13.2255,  1.3522]],\n",
      "       grad_fn=<AddmmBackward>)\n",
      "--------------------------------------------------------------------------------\n",
      "x-1:  tensor([ 1.7734,  1.7119,  4.3150, -5.6286,  1.8494, 10.8716,  1.5189])\n",
      "y:  tensor([[ 1.7734,  1.7119,  4.3150, -5.5352,  1.8570, 10.2550,  1.5292]])\n",
      "x:  tensor([[ 1.8535,  1.6935,  4.5187, -5.6121,  1.8548, 10.2581,  1.4254]],\n",
      "       grad_fn=<AddmmBackward>)\n",
      "--------------------------------------------------------------------------------\n",
      "x-1:  tensor([ 1.3660,  1.5086,  3.4859, -3.9705,  1.9703, 32.2633, -1.8389])\n",
      "y:  tensor([[ 1.3660,  1.5086,  3.4859, -4.1584,  2.0305, 31.6576, -1.8431]])\n",
      "x:  tensor([[ 1.5746,  1.7022,  3.6543, -3.9908,  1.8138, 31.5043, -1.8335]],\n",
      "       grad_fn=<AddmmBackward>)\n",
      "--------------------------------------------------------------------------------\n",
      "x-1:  tensor([ 1.3660,  1.5086,  3.4859, -3.6853,  1.9131, 29.3953, -1.8434])\n",
      "y:  tensor([[ 1.3660,  1.5086,  3.4859, -3.3395,  1.7671, 28.7573, -1.8312]])\n",
      "x:  tensor([[ 1.6113,  1.6306,  3.5451, -3.4426,  1.7461, 28.7914, -1.8256]],\n",
      "       grad_fn=<AddmmBackward>)\n",
      "--------------------------------------------------------------------------------\n",
      "x-1:  tensor([ 1.3660,  1.5086,  3.4859, -1.7795,  1.6641, 26.3283, -1.7798])\n",
      "y:  tensor([[ 1.3660,  1.5086,  3.4859, -1.3915,  1.7699, 25.7820, -1.7650]])\n",
      "x:  tensor([[ 1.5478,  1.6180,  3.5146, -1.3538,  1.5890, 25.7335, -1.6923]],\n",
      "       grad_fn=<AddmmBackward>)\n",
      "--------------------------------------------------------------------------------\n",
      "x-1:  tensor([ 1.3660e+00,  1.5086e+00,  3.4859e+00,  5.9280e-03,  1.6966e+00,\n",
      "         2.3233e+01, -1.7174e+00])\n",
      "y:  tensor([[ 1.3660,  1.5086,  3.4859,  0.3556,  1.7086, 22.5949, -1.7054]])\n",
      "x:  tensor([[ 1.5419,  1.6261,  3.5129,  0.3117,  1.6069, 22.5387, -1.6854]],\n",
      "       grad_fn=<AddmmBackward>)\n",
      "--------------------------------------------------------------------------------\n",
      "x-1:  tensor([ 1.3660,  1.5086,  3.4859,  1.3439,  1.5264, 19.8755, -1.6578])\n",
      "y:  tensor([[ 1.3660,  1.5086,  3.4859,  1.5478,  1.5682, 19.1899, -1.6459]])\n",
      "x:  tensor([[ 1.4556,  1.5997,  3.4741,  1.5623,  1.5418, 19.1537, -1.6302]],\n",
      "       grad_fn=<AddmmBackward>)\n",
      "--------------------------------------------------------------------------------\n",
      "x-1:  tensor([  1.4440,   1.5951,   3.7918, -10.3668,   2.0985,  24.5388,   1.2643])\n",
      "y:  tensor([[  1.4440,   1.5951,   3.7918, -10.0979,   2.0916,  24.0490,   1.2662]])\n",
      "x:  tensor([[ 1.7788,  1.6854,  4.2541, -9.9645,  2.0906, 23.5909,  0.9546]],\n",
      "       grad_fn=<AddmmBackward>)\n",
      "--------------------------------------------------------------------------------\n",
      "x-1:  tensor([ 1.4440,  1.5951,  3.7918, -8.9016,  2.0590, 22.0414,  1.3081])\n",
      "y:  tensor([[ 1.4440,  1.5951,  3.7918, -8.5723,  2.0496, 21.5274,  1.3271]])\n",
      "x:  tensor([[ 1.7591,  1.6197,  4.1296, -8.5870,  1.9556, 21.2478,  1.0391]],\n",
      "       grad_fn=<AddmmBackward>)\n",
      "--------------------------------------------------------------------------------\n",
      "x-1:  tensor([ 1.4440,  1.5951,  3.7918, -7.3069,  1.9738, 19.4221,  1.3977])\n",
      "y:  tensor([[ 1.4440,  1.5951,  3.7918, -7.0293,  1.9264, 18.8587,  1.4111]])\n",
      "x:  tensor([[ 1.7017,  1.5534,  4.0089, -7.1312,  1.8555, 18.7487,  1.2181]],\n",
      "       grad_fn=<AddmmBackward>)\n",
      "--------------------------------------------------------------------------------\n",
      "x-1:  tensor([ 1.4440,  1.5951,  3.7918, -6.1143,  1.8093, 16.4318,  1.4608])\n",
      "y:  tensor([[ 1.4440,  1.5951,  3.7918, -5.9299,  1.8307, 15.8248,  1.4701]])\n",
      "x:  tensor([[ 1.6629,  1.5315,  3.9629, -5.9954,  1.7703, 15.7716,  1.3478]],\n",
      "       grad_fn=<AddmmBackward>)\n",
      "--------------------------------------------------------------------------------\n",
      "x-1:  tensor([ 1.6880,  0.8000,  0.8840,  4.0419,  1.4281, 15.3122,  1.4120])\n",
      "y:  tensor([[ 1.6880,  0.8000,  0.8840,  4.3307,  1.4414, 14.5329,  1.4296]])\n",
      "x:  tensor([[ 1.8080,  0.6694,  1.3704,  4.2495,  1.6494, 14.2702,  1.3422]],\n",
      "       grad_fn=<AddmmBackward>)\n",
      "--------------------------------------------------------------------------------\n",
      "x-1:  tensor([ 1.6880,  0.8000,  0.8840,  5.1074,  1.3990, 11.2637,  1.4835])\n",
      "y:  tensor([[ 1.6880,  0.8000,  0.8840,  5.3016,  1.3884, 10.4465,  1.4969]])\n",
      "x:  tensor([[ 1.7609,  0.5975,  1.2679,  5.2919,  1.6062, 10.3003,  1.3679]],\n",
      "       grad_fn=<AddmmBackward>)\n",
      "--------------------------------------------------------------------------------\n",
      "x-1:  tensor([1.6880, 0.8000, 0.8840, 5.6524, 1.4781, 7.1050, 1.5340])\n",
      "y:  tensor([[1.6880, 0.8000, 0.8840, 5.7397, 1.5005, 6.2796, 1.5433]])\n",
      "x:  tensor([[1.7050, 0.5727, 1.2529, 5.8124, 1.5309, 6.3579, 1.3726]],\n",
      "       grad_fn=<AddmmBackward>)\n",
      "--------------------------------------------------------------------------------\n",
      "x-1:  tensor([ 1.4224,  1.5128,  3.7076, -9.1368,  2.0079, 26.1515,  1.3941])\n",
      "y:  tensor([[ 1.4224,  1.5128,  3.7076, -8.7305,  2.0224, 25.6478,  1.4140]])\n",
      "x:  tensor([[ 1.7934,  1.6470,  4.1907, -8.7247,  1.9797, 25.2574,  1.1579]],\n",
      "       grad_fn=<AddmmBackward>)\n",
      "--------------------------------------------------------------------------------\n",
      "x-1:  tensor([ 1.4224,  1.5128,  3.7076, -7.3277,  1.7941, 23.3575,  1.4672])\n",
      "y:  tensor([[ 1.4224,  1.5128,  3.7076, -6.9899,  1.7268, 22.7750,  1.4871]])\n",
      "x:  tensor([[ 1.6881,  1.5572,  4.0281, -7.1023,  1.8411, 22.5828,  1.3530]],\n",
      "       grad_fn=<AddmmBackward>)\n",
      "--------------------------------------------------------------------------------\n",
      "x-1:  tensor([ 1.4224,  1.5128,  3.7076, -6.2246,  1.8558, 20.3860,  1.4824])\n",
      "y:  tensor([[ 1.4224,  1.5128,  3.7076, -6.0333,  1.8880, 19.7888,  1.4812]])\n",
      "x:  tensor([[ 1.6461,  1.5121,  3.9210, -6.1648,  1.8121, 19.6861,  1.4247]],\n",
      "       grad_fn=<AddmmBackward>)\n",
      "Test loss:  0.7883812163490802\n",
      "Accuracy:  tensor(0.)\n"
     ]
    }
   ],
   "source": [
    "model.eval()\n",
    "test_loss, accuracy = validation(model,X_test, y_test,criterion)\n",
    "print('Test loss: ',  test_loss)\n",
    "print('Accuracy: ',  accuracy)"
   ]
  }
 ],
 "metadata": {
  "kernelspec": {
   "display_name": "pcdet",
   "language": "python",
   "name": "pcdet"
  },
  "language_info": {
   "codemirror_mode": {
    "name": "ipython",
    "version": 3
   },
   "file_extension": ".py",
   "mimetype": "text/x-python",
   "name": "python",
   "nbconvert_exporter": "python",
   "pygments_lexer": "ipython3",
   "version": "3.7.7"
  },
  "toc": {
   "base_numbering": 1,
   "nav_menu": {},
   "number_sections": true,
   "sideBar": true,
   "skip_h1_title": false,
   "title_cell": "Table of Contents",
   "title_sidebar": "Contents",
   "toc_cell": false,
   "toc_position": {},
   "toc_section_display": true,
   "toc_window_display": false
  },
  "varInspector": {
   "cols": {
    "lenName": 16,
    "lenType": 16,
    "lenVar": 40
   },
   "kernels_config": {
    "python": {
     "delete_cmd_postfix": "",
     "delete_cmd_prefix": "del ",
     "library": "var_list.py",
     "varRefreshCmd": "print(var_dic_list())"
    },
    "r": {
     "delete_cmd_postfix": ") ",
     "delete_cmd_prefix": "rm(",
     "library": "var_list.r",
     "varRefreshCmd": "cat(var_dic_list()) "
    }
   },
   "types_to_exclude": [
    "module",
    "function",
    "builtin_function_or_method",
    "instance",
    "_Feature"
   ],
   "window_display": false
  }
 },
 "nbformat": 4,
 "nbformat_minor": 5
}
