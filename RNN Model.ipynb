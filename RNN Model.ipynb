{
 "cells": [
  {
   "cell_type": "markdown",
   "id": "ee333496",
   "metadata": {},
   "source": [
    "# Library"
   ]
  },
  {
   "cell_type": "code",
   "execution_count": 1,
   "id": "256b6a11",
   "metadata": {
    "ExecuteTime": {
     "end_time": "2022-03-24T21:51:49.572688Z",
     "start_time": "2022-03-24T21:51:49.074857Z"
    }
   },
   "outputs": [],
   "source": [
    "import torch\n",
    "import torch.nn as nn\n",
    "import torch.nn.functional as F\n",
    "import torch.optim as optim\n",
    "from torch.autograd import Variable"
   ]
  },
  {
   "cell_type": "code",
   "execution_count": 56,
   "id": "b64a2571",
   "metadata": {
    "ExecuteTime": {
     "end_time": "2022-03-25T15:39:49.451606Z",
     "start_time": "2022-03-25T15:39:49.445536Z"
    }
   },
   "outputs": [],
   "source": [
    "import os\n",
    "import csv\n",
    "import numpy as np\n",
    "import math\n",
    "import matplotlib.pyplot as plt\n",
    "from collections import Counter\n",
    "import itertools\n",
    "import matplotlib.pyplot as plt"
   ]
  },
  {
   "cell_type": "markdown",
   "id": "5e6b0613",
   "metadata": {},
   "source": [
    "# Data"
   ]
  },
  {
   "cell_type": "code",
   "execution_count": 3,
   "id": "29fa21c7",
   "metadata": {
    "ExecuteTime": {
     "end_time": "2022-03-24T21:51:55.970950Z",
     "start_time": "2022-03-24T21:51:55.916494Z"
    }
   },
   "outputs": [
    {
     "name": "stdout",
     "output_type": "stream",
     "text": [
      "torch.Size([133, 5, 9]) <class 'torch.Tensor'>\n",
      "torch.Size([133, 9]) <class 'torch.Tensor'>\n",
      "------------------------------------------------------------\n",
      "torch.Size([133, 5, 7])\n",
      "torch.Size([133, 7])\n"
     ]
    }
   ],
   "source": [
    "X_Data = np.loadtxt(\"X_Training.txt\", dtype=np.float32)\n",
    "Y_Data = np.loadtxt(\"Y_Training.txt\", dtype=np.float32)\n",
    "\n",
    "Features = 9 # Information: Frame, Track ID, 3D Dimensions (H, W, L), 3D Location (X,Y,Z), Rotation Y\n",
    "X_Data = X_Data.reshape(X_Data.shape[0], X_Data.shape[1] // Features, Features)\n",
    "\n",
    "X_Data = torch.tensor(X_Data)\n",
    "Y_Data = torch.tensor(Y_Data)\n",
    "\n",
    "print(X_Data.shape, type(X_Data))\n",
    "print(Y_Data.shape, type(Y_Data))\n",
    "print('-'.center(60,'-'))\n",
    "# Information: 3D Dimensions (H, W, L), 3D Location (X,Y,Z), Rotation Y\n",
    "X_Data = X_Data[:,:,2:9]\n",
    "Y_Data = Y_Data[:,2:9]\n",
    "\n",
    "print(X_Data.shape)\n",
    "print(Y_Data.shape)"
   ]
  },
  {
   "cell_type": "markdown",
   "id": "6d9066ab",
   "metadata": {},
   "source": [
    "# Model"
   ]
  },
  {
   "cell_type": "markdown",
   "id": "3347021b",
   "metadata": {},
   "source": [
    "## Model 1"
   ]
  },
  {
   "cell_type": "code",
   "execution_count": 19,
   "id": "0442c85c",
   "metadata": {
    "ExecuteTime": {
     "end_time": "2022-03-24T22:01:50.895711Z",
     "start_time": "2022-03-24T22:01:50.886913Z"
    }
   },
   "outputs": [
    {
     "name": "stdout",
     "output_type": "stream",
     "text": [
      "torch.Size([125, 5, 7])\n",
      "torch.Size([125, 7])\n",
      "torch.Size([25, 5, 5, 7])\n",
      "torch.Size([25, 5, 7])\n"
     ]
    }
   ],
   "source": [
    "data_x = X_Data[0:125]\n",
    "data_y = Y_Data[0:125]\n",
    "\n",
    "print(data_x.shape)\n",
    "print(data_y.shape)\n",
    "\n",
    "batch_size = 125\n",
    "lote = 5\n",
    "t = data_x.reshape(int(batch_size/lote),5,5,7)\n",
    "o = data_y.reshape(int(batch_size/lote),lote,7)\n",
    "\n",
    "print(t.shape)\n",
    "print(o.shape)"
   ]
  },
  {
   "cell_type": "code",
   "execution_count": 87,
   "id": "30621ff5",
   "metadata": {
    "ExecuteTime": {
     "end_time": "2022-03-25T16:31:48.405575Z",
     "start_time": "2022-03-25T16:31:48.396799Z"
    }
   },
   "outputs": [],
   "source": [
    "class RNNModel(nn.Module):\n",
    "    \n",
    "    def __init__(self, input_dim, hidden_dim, layer_dim, output_dim):\n",
    "        \n",
    "        super(RNNModel, self).__init__()\n",
    "        \n",
    "        self.hidden_dim = hidden_dim #Hidden Dimension\n",
    "        self.layer_dim = layer_dim # Number of hidden layers\n",
    "\n",
    "        self.rnn = nn.RNN(input_dim, hidden_dim, layer_dim, batch_first=True, nonlinearity='relu') #Building the RNN       \n",
    "        self.fc = nn.Linear(hidden_dim, output_dim) # Readout layer\n",
    "        \n",
    "    def forward(self, x):\n",
    "        # Initializing the hidden state with zeros\n",
    "        # (layer_dim, batch_size, hidden_dim)\n",
    "        h0 = Variable(torch.zeros(self.layer_dim, x.size(0), self.hidden_dim))\n",
    "        \n",
    "        #One time step (the last one perhaps?)\n",
    "        out, hn = self.rnn(x, h0)\n",
    "        \n",
    "        # Indexing hidden state of the last time step\n",
    "        # out.size() --> ??\n",
    "        #out[:,-1,:] --> is it going to be 100,100\n",
    "        out = self.fc(out[:,-1,:])\n",
    "        # out.size() --> 100,1\n",
    "        return out"
   ]
  },
  {
   "cell_type": "code",
   "execution_count": 88,
   "id": "57b35282",
   "metadata": {
    "ExecuteTime": {
     "end_time": "2022-03-25T16:31:49.187615Z",
     "start_time": "2022-03-25T16:31:49.182835Z"
    }
   },
   "outputs": [],
   "source": [
    "# Parameters\n",
    "input_dim = 7\n",
    "hidden_dim = 150\n",
    "layer_dim = 1\n",
    "output_dim = 7\n",
    "batch_size = 25\n",
    "seq_dim = 5"
   ]
  },
  {
   "cell_type": "code",
   "execution_count": 89,
   "id": "fedfbc28",
   "metadata": {
    "ExecuteTime": {
     "end_time": "2022-03-25T16:31:50.201780Z",
     "start_time": "2022-03-25T16:31:50.192193Z"
    },
    "scrolled": true
   },
   "outputs": [
    {
     "name": "stdout",
     "output_type": "stream",
     "text": [
      "torch.Size([133, 5, 7])\n",
      "torch.Size([1, 7])\n",
      "tensor([[-0.0013, -0.0141, -0.3464,  0.4851, -0.3214,  0.2022,  0.3500]],\n",
      "       grad_fn=<AddmmBackward>)\n"
     ]
    }
   ],
   "source": [
    "# Input Test\n",
    "x = X_Data[0]\n",
    "x = x.reshape(1,5,7)\n",
    "x.shape\n",
    "model = RNNModel(input_dim, hidden_dim, layer_dim, output_dim)\n",
    "out = model(x)\n",
    "print(X_Data.shape)\n",
    "print(out.shape)\n",
    "print(out)"
   ]
  },
  {
   "cell_type": "code",
   "execution_count": 90,
   "id": "7c9c7fcf",
   "metadata": {
    "ExecuteTime": {
     "end_time": "2022-03-25T16:31:51.321069Z",
     "start_time": "2022-03-25T16:31:51.313992Z"
    }
   },
   "outputs": [
    {
     "name": "stdout",
     "output_type": "stream",
     "text": [
      "torch.Size([133, 1, 5, 7])\n",
      "torch.Size([133, 1, 7])\n"
     ]
    }
   ],
   "source": [
    "# Train Data\n",
    "\n",
    "batch_size = 133\n",
    "lote = 1\n",
    "\n",
    "XT_Data = X_Data.reshape(int(batch_size/lote),lote,5,7)\n",
    "YT_Data = Y_Data.reshape(int(batch_size/lote),lote,7)\n",
    "print(t.shape)\n",
    "print(o.shape)\n",
    "\n",
    "X_train = XT_Data[:100]\n",
    "X_test  = XT_Data[101:]\n",
    "y_train = YT_Data[:100]\n",
    "y_test  = YT_Data[101:]"
   ]
  },
  {
   "cell_type": "code",
   "execution_count": 91,
   "id": "18575c81",
   "metadata": {
    "ExecuteTime": {
     "end_time": "2022-03-25T16:31:52.476569Z",
     "start_time": "2022-03-25T16:31:52.472357Z"
    }
   },
   "outputs": [],
   "source": [
    "# Instantiating Loss Class\n",
    "criterion = nn.MSELoss()\n",
    "\n",
    "# Instantiate Optimizer Class\n",
    "learning_rate = 0.001\n",
    "optimizer = torch.optim.SGD(model.parameters(), lr=learning_rate)\n",
    "\n"
   ]
  },
  {
   "cell_type": "code",
   "execution_count": 92,
   "id": "160ab243",
   "metadata": {
    "ExecuteTime": {
     "end_time": "2022-03-25T16:31:53.651576Z",
     "start_time": "2022-03-25T16:31:53.610000Z"
    }
   },
   "outputs": [],
   "source": [
    "for epoch in range(num_epochs):\n",
    "    \n",
    "    for i,(X, Y) in enumerate(zip(XT_Data, YT_Data)):\n",
    "        \n",
    "#         print('-'.center(60,'-'))\n",
    "        if (i+1) % 100 == 0:\n",
    "#             print('Hola',i)\n",
    "            pass"
   ]
  },
  {
   "cell_type": "code",
   "execution_count": 96,
   "id": "09791c99",
   "metadata": {
    "ExecuteTime": {
     "end_time": "2022-03-25T16:34:00.971726Z",
     "start_time": "2022-03-25T16:33:46.612072Z"
    },
    "scrolled": false
   },
   "outputs": [
    {
     "name": "stdout",
     "output_type": "stream",
     "text": [
      "------------------------------------------------------------\n",
      "Epoch [1/200], Step [100/100], Loss: 0.0033\n",
      "------------------------------------------------------------\n",
      "Epoch [2/200], Step [100/100], Loss: 0.0032\n",
      "------------------------------------------------------------\n",
      "Epoch [3/200], Step [100/100], Loss: 0.0032\n",
      "------------------------------------------------------------\n",
      "Epoch [4/200], Step [100/100], Loss: 0.0032\n",
      "------------------------------------------------------------\n",
      "Epoch [5/200], Step [100/100], Loss: 0.0032\n",
      "------------------------------------------------------------\n",
      "Epoch [6/200], Step [100/100], Loss: 0.0031\n",
      "------------------------------------------------------------\n",
      "Epoch [7/200], Step [100/100], Loss: 0.0031\n",
      "------------------------------------------------------------\n",
      "Epoch [8/200], Step [100/100], Loss: 0.0031\n",
      "------------------------------------------------------------\n",
      "Epoch [9/200], Step [100/100], Loss: 0.0030\n",
      "------------------------------------------------------------\n",
      "Epoch [10/200], Step [100/100], Loss: 0.0031\n",
      "------------------------------------------------------------\n",
      "Epoch [11/200], Step [100/100], Loss: 0.0030\n",
      "------------------------------------------------------------\n",
      "Epoch [12/200], Step [100/100], Loss: 0.0030\n",
      "------------------------------------------------------------\n",
      "Epoch [13/200], Step [100/100], Loss: 0.0030\n",
      "------------------------------------------------------------\n",
      "Epoch [14/200], Step [100/100], Loss: 0.0030\n",
      "------------------------------------------------------------\n",
      "Epoch [15/200], Step [100/100], Loss: 0.0030\n",
      "------------------------------------------------------------\n",
      "Epoch [16/200], Step [100/100], Loss: 0.0029\n",
      "------------------------------------------------------------\n",
      "Epoch [17/200], Step [100/100], Loss: 0.0030\n",
      "------------------------------------------------------------\n",
      "Epoch [18/200], Step [100/100], Loss: 0.0029\n",
      "------------------------------------------------------------\n",
      "Epoch [19/200], Step [100/100], Loss: 0.0029\n",
      "------------------------------------------------------------\n",
      "Epoch [20/200], Step [100/100], Loss: 0.0029\n",
      "------------------------------------------------------------\n",
      "Epoch [21/200], Step [100/100], Loss: 0.0029\n",
      "------------------------------------------------------------\n",
      "Epoch [22/200], Step [100/100], Loss: 0.0029\n",
      "------------------------------------------------------------\n",
      "Epoch [23/200], Step [100/100], Loss: 0.0029\n",
      "------------------------------------------------------------\n",
      "Epoch [24/200], Step [100/100], Loss: 0.0029\n",
      "------------------------------------------------------------\n",
      "Epoch [25/200], Step [100/100], Loss: 0.0029\n",
      "------------------------------------------------------------\n",
      "Epoch [26/200], Step [100/100], Loss: 0.0029\n",
      "------------------------------------------------------------\n",
      "Epoch [27/200], Step [100/100], Loss: 0.0029\n",
      "------------------------------------------------------------\n",
      "Epoch [28/200], Step [100/100], Loss: 0.0029\n",
      "------------------------------------------------------------\n",
      "Epoch [29/200], Step [100/100], Loss: 0.0029\n",
      "------------------------------------------------------------\n",
      "Epoch [30/200], Step [100/100], Loss: 0.0029\n",
      "------------------------------------------------------------\n",
      "Epoch [31/200], Step [100/100], Loss: 0.0029\n",
      "------------------------------------------------------------\n",
      "Epoch [32/200], Step [100/100], Loss: 0.0030\n",
      "------------------------------------------------------------\n",
      "Epoch [33/200], Step [100/100], Loss: 0.0029\n",
      "------------------------------------------------------------\n",
      "Epoch [34/200], Step [100/100], Loss: 0.0029\n",
      "------------------------------------------------------------\n",
      "Epoch [35/200], Step [100/100], Loss: 0.0029\n",
      "------------------------------------------------------------\n",
      "Epoch [36/200], Step [100/100], Loss: 0.0029\n",
      "------------------------------------------------------------\n",
      "Epoch [37/200], Step [100/100], Loss: 0.0029\n",
      "------------------------------------------------------------\n",
      "Epoch [38/200], Step [100/100], Loss: 0.0030\n",
      "------------------------------------------------------------\n",
      "Epoch [39/200], Step [100/100], Loss: 0.0030\n",
      "------------------------------------------------------------\n",
      "Epoch [40/200], Step [100/100], Loss: 0.0030\n",
      "------------------------------------------------------------\n",
      "Epoch [41/200], Step [100/100], Loss: 0.0030\n",
      "------------------------------------------------------------\n",
      "Epoch [42/200], Step [100/100], Loss: 0.0030\n",
      "------------------------------------------------------------\n",
      "Epoch [43/200], Step [100/100], Loss: 0.0030\n",
      "------------------------------------------------------------\n",
      "Epoch [44/200], Step [100/100], Loss: 0.0030\n",
      "------------------------------------------------------------\n",
      "Epoch [45/200], Step [100/100], Loss: 0.0030\n",
      "------------------------------------------------------------\n",
      "Epoch [46/200], Step [100/100], Loss: 0.0030\n",
      "------------------------------------------------------------\n",
      "Epoch [47/200], Step [100/100], Loss: 0.0031\n",
      "------------------------------------------------------------\n",
      "Epoch [48/200], Step [100/100], Loss: 0.0031\n",
      "------------------------------------------------------------\n",
      "Epoch [49/200], Step [100/100], Loss: 0.0031\n",
      "------------------------------------------------------------\n",
      "Epoch [50/200], Step [100/100], Loss: 0.0032\n",
      "------------------------------------------------------------\n",
      "Epoch [51/200], Step [100/100], Loss: 0.0032\n",
      "------------------------------------------------------------\n",
      "Epoch [52/200], Step [100/100], Loss: 0.0032\n",
      "------------------------------------------------------------\n",
      "Epoch [53/200], Step [100/100], Loss: 0.0033\n",
      "------------------------------------------------------------\n",
      "Epoch [54/200], Step [100/100], Loss: 0.0033\n",
      "------------------------------------------------------------\n",
      "Epoch [55/200], Step [100/100], Loss: 0.0033\n",
      "------------------------------------------------------------\n",
      "Epoch [56/200], Step [100/100], Loss: 0.0033\n",
      "------------------------------------------------------------\n",
      "Epoch [57/200], Step [100/100], Loss: 0.0033\n",
      "------------------------------------------------------------\n",
      "Epoch [58/200], Step [100/100], Loss: 0.0034\n",
      "------------------------------------------------------------\n",
      "Epoch [59/200], Step [100/100], Loss: 0.0034\n",
      "------------------------------------------------------------\n",
      "Epoch [60/200], Step [100/100], Loss: 0.0034\n",
      "------------------------------------------------------------\n",
      "Epoch [61/200], Step [100/100], Loss: 0.0034\n",
      "------------------------------------------------------------\n",
      "Epoch [62/200], Step [100/100], Loss: 0.0034\n",
      "------------------------------------------------------------\n",
      "Epoch [63/200], Step [100/100], Loss: 0.0035\n",
      "------------------------------------------------------------\n",
      "Epoch [64/200], Step [100/100], Loss: 0.0035\n",
      "------------------------------------------------------------\n",
      "Epoch [65/200], Step [100/100], Loss: 0.0035\n",
      "------------------------------------------------------------\n",
      "Epoch [66/200], Step [100/100], Loss: 0.0035\n",
      "------------------------------------------------------------\n",
      "Epoch [67/200], Step [100/100], Loss: 0.0035\n",
      "------------------------------------------------------------\n",
      "Epoch [68/200], Step [100/100], Loss: 0.0035\n",
      "------------------------------------------------------------\n",
      "Epoch [69/200], Step [100/100], Loss: 0.0035\n",
      "------------------------------------------------------------\n",
      "Epoch [70/200], Step [100/100], Loss: 0.0035\n",
      "------------------------------------------------------------\n",
      "Epoch [71/200], Step [100/100], Loss: 0.0035\n",
      "------------------------------------------------------------\n",
      "Epoch [72/200], Step [100/100], Loss: 0.0035\n",
      "------------------------------------------------------------\n",
      "Epoch [73/200], Step [100/100], Loss: 0.0035\n",
      "------------------------------------------------------------\n",
      "Epoch [74/200], Step [100/100], Loss: 0.0035\n",
      "------------------------------------------------------------\n",
      "Epoch [75/200], Step [100/100], Loss: 0.0035\n",
      "------------------------------------------------------------\n",
      "Epoch [76/200], Step [100/100], Loss: 0.0035\n",
      "------------------------------------------------------------\n",
      "Epoch [77/200], Step [100/100], Loss: 0.0036\n",
      "------------------------------------------------------------\n",
      "Epoch [78/200], Step [100/100], Loss: 0.0036\n",
      "------------------------------------------------------------\n",
      "Epoch [79/200], Step [100/100], Loss: 0.0036\n",
      "------------------------------------------------------------\n",
      "Epoch [80/200], Step [100/100], Loss: 0.0036\n",
      "------------------------------------------------------------\n",
      "Epoch [81/200], Step [100/100], Loss: 0.0037\n"
     ]
    },
    {
     "name": "stdout",
     "output_type": "stream",
     "text": [
      "------------------------------------------------------------\n",
      "Epoch [82/200], Step [100/100], Loss: 0.0037\n",
      "------------------------------------------------------------\n",
      "Epoch [83/200], Step [100/100], Loss: 0.0037\n",
      "------------------------------------------------------------\n",
      "Epoch [84/200], Step [100/100], Loss: 0.0037\n",
      "------------------------------------------------------------\n",
      "Epoch [85/200], Step [100/100], Loss: 0.0037\n",
      "------------------------------------------------------------\n",
      "Epoch [86/200], Step [100/100], Loss: 0.0037\n",
      "------------------------------------------------------------\n",
      "Epoch [87/200], Step [100/100], Loss: 0.0037\n",
      "------------------------------------------------------------\n",
      "Epoch [88/200], Step [100/100], Loss: 0.0037\n",
      "------------------------------------------------------------\n",
      "Epoch [89/200], Step [100/100], Loss: 0.0038\n",
      "------------------------------------------------------------\n",
      "Epoch [90/200], Step [100/100], Loss: 0.0038\n",
      "------------------------------------------------------------\n",
      "Epoch [91/200], Step [100/100], Loss: 0.0038\n",
      "------------------------------------------------------------\n",
      "Epoch [92/200], Step [100/100], Loss: 0.0038\n",
      "------------------------------------------------------------\n",
      "Epoch [93/200], Step [100/100], Loss: 0.0038\n",
      "------------------------------------------------------------\n",
      "Epoch [94/200], Step [100/100], Loss: 0.0039\n",
      "------------------------------------------------------------\n",
      "Epoch [95/200], Step [100/100], Loss: 0.0038\n",
      "------------------------------------------------------------\n",
      "Epoch [96/200], Step [100/100], Loss: 0.0038\n",
      "------------------------------------------------------------\n",
      "Epoch [97/200], Step [100/100], Loss: 0.0039\n",
      "------------------------------------------------------------\n",
      "Epoch [98/200], Step [100/100], Loss: 0.0039\n",
      "------------------------------------------------------------\n",
      "Epoch [99/200], Step [100/100], Loss: 0.0039\n",
      "------------------------------------------------------------\n",
      "Epoch [100/200], Step [100/100], Loss: 0.0039\n",
      "------------------------------------------------------------\n",
      "Epoch [101/200], Step [100/100], Loss: 0.0039\n",
      "------------------------------------------------------------\n",
      "Epoch [102/200], Step [100/100], Loss: 0.0039\n",
      "------------------------------------------------------------\n",
      "Epoch [103/200], Step [100/100], Loss: 0.0040\n",
      "------------------------------------------------------------\n",
      "Epoch [104/200], Step [100/100], Loss: 0.0040\n",
      "------------------------------------------------------------\n",
      "Epoch [105/200], Step [100/100], Loss: 0.0040\n",
      "------------------------------------------------------------\n",
      "Epoch [106/200], Step [100/100], Loss: 0.0040\n",
      "------------------------------------------------------------\n",
      "Epoch [107/200], Step [100/100], Loss: 0.0040\n",
      "------------------------------------------------------------\n",
      "Epoch [108/200], Step [100/100], Loss: 0.0041\n",
      "------------------------------------------------------------\n",
      "Epoch [109/200], Step [100/100], Loss: 0.0040\n",
      "------------------------------------------------------------\n",
      "Epoch [110/200], Step [100/100], Loss: 0.0040\n",
      "------------------------------------------------------------\n",
      "Epoch [111/200], Step [100/100], Loss: 0.0041\n",
      "------------------------------------------------------------\n",
      "Epoch [112/200], Step [100/100], Loss: 0.0041\n",
      "------------------------------------------------------------\n",
      "Epoch [113/200], Step [100/100], Loss: 0.0040\n",
      "------------------------------------------------------------\n",
      "Epoch [114/200], Step [100/100], Loss: 0.0041\n",
      "------------------------------------------------------------\n",
      "Epoch [115/200], Step [100/100], Loss: 0.0041\n",
      "------------------------------------------------------------\n",
      "Epoch [116/200], Step [100/100], Loss: 0.0042\n",
      "------------------------------------------------------------\n",
      "Epoch [117/200], Step [100/100], Loss: 0.0042\n",
      "------------------------------------------------------------\n",
      "Epoch [118/200], Step [100/100], Loss: 0.0043\n",
      "------------------------------------------------------------\n",
      "Epoch [119/200], Step [100/100], Loss: 0.0042\n",
      "------------------------------------------------------------\n",
      "Epoch [120/200], Step [100/100], Loss: 0.0043\n",
      "------------------------------------------------------------\n",
      "Epoch [121/200], Step [100/100], Loss: 0.0043\n",
      "------------------------------------------------------------\n",
      "Epoch [122/200], Step [100/100], Loss: 0.0043\n",
      "------------------------------------------------------------\n",
      "Epoch [123/200], Step [100/100], Loss: 0.0044\n",
      "------------------------------------------------------------\n",
      "Epoch [124/200], Step [100/100], Loss: 0.0044\n",
      "------------------------------------------------------------\n",
      "Epoch [125/200], Step [100/100], Loss: 0.0044\n",
      "------------------------------------------------------------\n",
      "Epoch [126/200], Step [100/100], Loss: 0.0044\n",
      "------------------------------------------------------------\n",
      "Epoch [127/200], Step [100/100], Loss: 0.0044\n",
      "------------------------------------------------------------\n",
      "Epoch [128/200], Step [100/100], Loss: 0.0044\n",
      "------------------------------------------------------------\n",
      "Epoch [129/200], Step [100/100], Loss: 0.0044\n",
      "------------------------------------------------------------\n",
      "Epoch [130/200], Step [100/100], Loss: 0.0044\n",
      "------------------------------------------------------------\n",
      "Epoch [131/200], Step [100/100], Loss: 0.0044\n",
      "------------------------------------------------------------\n",
      "Epoch [132/200], Step [100/100], Loss: 0.0044\n",
      "------------------------------------------------------------\n",
      "Epoch [133/200], Step [100/100], Loss: 0.0045\n",
      "------------------------------------------------------------\n",
      "Epoch [134/200], Step [100/100], Loss: 0.0044\n",
      "------------------------------------------------------------\n",
      "Epoch [135/200], Step [100/100], Loss: 0.0044\n",
      "------------------------------------------------------------\n",
      "Epoch [136/200], Step [100/100], Loss: 0.0045\n",
      "------------------------------------------------------------\n",
      "Epoch [137/200], Step [100/100], Loss: 0.0045\n",
      "------------------------------------------------------------\n",
      "Epoch [138/200], Step [100/100], Loss: 0.0045\n",
      "------------------------------------------------------------\n",
      "Epoch [139/200], Step [100/100], Loss: 0.0045\n",
      "------------------------------------------------------------\n",
      "Epoch [140/200], Step [100/100], Loss: 0.0045\n",
      "------------------------------------------------------------\n",
      "Epoch [141/200], Step [100/100], Loss: 0.0045\n",
      "------------------------------------------------------------\n",
      "Epoch [142/200], Step [100/100], Loss: 0.0045\n",
      "------------------------------------------------------------\n",
      "Epoch [143/200], Step [100/100], Loss: 0.0046\n",
      "------------------------------------------------------------\n",
      "Epoch [144/200], Step [100/100], Loss: 0.0046\n",
      "------------------------------------------------------------\n",
      "Epoch [145/200], Step [100/100], Loss: 0.0046\n",
      "------------------------------------------------------------\n",
      "Epoch [146/200], Step [100/100], Loss: 0.0046\n",
      "------------------------------------------------------------\n",
      "Epoch [147/200], Step [100/100], Loss: 0.0046\n",
      "------------------------------------------------------------\n",
      "Epoch [148/200], Step [100/100], Loss: 0.0047\n",
      "------------------------------------------------------------\n",
      "Epoch [149/200], Step [100/100], Loss: 0.0046\n",
      "------------------------------------------------------------\n",
      "Epoch [150/200], Step [100/100], Loss: 0.0046\n",
      "------------------------------------------------------------\n",
      "Epoch [151/200], Step [100/100], Loss: 0.0047\n",
      "------------------------------------------------------------\n",
      "Epoch [152/200], Step [100/100], Loss: 0.0046\n",
      "------------------------------------------------------------\n",
      "Epoch [153/200], Step [100/100], Loss: 0.0046\n",
      "------------------------------------------------------------\n",
      "Epoch [154/200], Step [100/100], Loss: 0.0047\n",
      "------------------------------------------------------------\n",
      "Epoch [155/200], Step [100/100], Loss: 0.0047\n",
      "------------------------------------------------------------\n",
      "Epoch [156/200], Step [100/100], Loss: 0.0048\n",
      "------------------------------------------------------------\n",
      "Epoch [157/200], Step [100/100], Loss: 0.0047\n",
      "------------------------------------------------------------\n",
      "Epoch [158/200], Step [100/100], Loss: 0.0048\n",
      "------------------------------------------------------------\n",
      "Epoch [159/200], Step [100/100], Loss: 0.0048\n",
      "------------------------------------------------------------\n",
      "Epoch [160/200], Step [100/100], Loss: 0.0049\n"
     ]
    },
    {
     "name": "stdout",
     "output_type": "stream",
     "text": [
      "------------------------------------------------------------\n",
      "Epoch [161/200], Step [100/100], Loss: 0.0049\n",
      "------------------------------------------------------------\n",
      "Epoch [162/200], Step [100/100], Loss: 0.0049\n",
      "------------------------------------------------------------\n",
      "Epoch [163/200], Step [100/100], Loss: 0.0048\n",
      "------------------------------------------------------------\n",
      "Epoch [164/200], Step [100/100], Loss: 0.0049\n",
      "------------------------------------------------------------\n",
      "Epoch [165/200], Step [100/100], Loss: 0.0049\n",
      "------------------------------------------------------------\n",
      "Epoch [166/200], Step [100/100], Loss: 0.0048\n",
      "------------------------------------------------------------\n",
      "Epoch [167/200], Step [100/100], Loss: 0.0048\n",
      "------------------------------------------------------------\n",
      "Epoch [168/200], Step [100/100], Loss: 0.0049\n",
      "------------------------------------------------------------\n",
      "Epoch [169/200], Step [100/100], Loss: 0.0048\n",
      "------------------------------------------------------------\n",
      "Epoch [170/200], Step [100/100], Loss: 0.0048\n",
      "------------------------------------------------------------\n",
      "Epoch [171/200], Step [100/100], Loss: 0.0048\n",
      "------------------------------------------------------------\n",
      "Epoch [172/200], Step [100/100], Loss: 0.0048\n",
      "------------------------------------------------------------\n",
      "Epoch [173/200], Step [100/100], Loss: 0.0048\n",
      "------------------------------------------------------------\n",
      "Epoch [174/200], Step [100/100], Loss: 0.0048\n",
      "------------------------------------------------------------\n",
      "Epoch [175/200], Step [100/100], Loss: 0.0049\n",
      "------------------------------------------------------------\n",
      "Epoch [176/200], Step [100/100], Loss: 0.0048\n",
      "------------------------------------------------------------\n",
      "Epoch [177/200], Step [100/100], Loss: 0.0048\n",
      "------------------------------------------------------------\n",
      "Epoch [178/200], Step [100/100], Loss: 0.0048\n",
      "------------------------------------------------------------\n",
      "Epoch [179/200], Step [100/100], Loss: 0.0048\n",
      "------------------------------------------------------------\n",
      "Epoch [180/200], Step [100/100], Loss: 0.0048\n",
      "------------------------------------------------------------\n",
      "Epoch [181/200], Step [100/100], Loss: 0.0049\n",
      "------------------------------------------------------------\n",
      "Epoch [182/200], Step [100/100], Loss: 0.0048\n",
      "------------------------------------------------------------\n",
      "Epoch [183/200], Step [100/100], Loss: 0.0049\n",
      "------------------------------------------------------------\n",
      "Epoch [184/200], Step [100/100], Loss: 0.0049\n",
      "------------------------------------------------------------\n",
      "Epoch [185/200], Step [100/100], Loss: 0.0049\n",
      "------------------------------------------------------------\n",
      "Epoch [186/200], Step [100/100], Loss: 0.0048\n",
      "------------------------------------------------------------\n",
      "Epoch [187/200], Step [100/100], Loss: 0.0049\n",
      "------------------------------------------------------------\n",
      "Epoch [188/200], Step [100/100], Loss: 0.0049\n",
      "------------------------------------------------------------\n",
      "Epoch [189/200], Step [100/100], Loss: 0.0049\n",
      "------------------------------------------------------------\n",
      "Epoch [190/200], Step [100/100], Loss: 0.0049\n",
      "------------------------------------------------------------\n",
      "Epoch [191/200], Step [100/100], Loss: 0.0048\n",
      "------------------------------------------------------------\n",
      "Epoch [192/200], Step [100/100], Loss: 0.0049\n",
      "------------------------------------------------------------\n",
      "Epoch [193/200], Step [100/100], Loss: 0.0049\n",
      "------------------------------------------------------------\n",
      "Epoch [194/200], Step [100/100], Loss: 0.0049\n",
      "------------------------------------------------------------\n",
      "Epoch [195/200], Step [100/100], Loss: 0.0049\n",
      "------------------------------------------------------------\n",
      "Epoch [196/200], Step [100/100], Loss: 0.0049\n",
      "------------------------------------------------------------\n",
      "Epoch [197/200], Step [100/100], Loss: 0.0049\n",
      "------------------------------------------------------------\n",
      "Epoch [198/200], Step [100/100], Loss: 0.0049\n",
      "------------------------------------------------------------\n",
      "Epoch [199/200], Step [100/100], Loss: 0.0049\n",
      "------------------------------------------------------------\n",
      "Epoch [200/200], Step [100/100], Loss: 0.0049\n"
     ]
    }
   ],
   "source": [
    "# initializing lists to store losses over epochs:\n",
    "train_loss = []\n",
    "test_loss = []\n",
    "train_iter = []\n",
    "test_iter = []\n",
    "\n",
    "n_total_steps = len(X_train)\n",
    "num_epochs = 200\n",
    "\n",
    "for epoch in range(num_epochs):\n",
    "    \n",
    "    for i,(X, Y) in enumerate(zip(X_train, y_train)):\n",
    "        \n",
    "#         print('-'.center(60,'-'))       \n",
    "        optimizer.zero_grad()\n",
    "        outputs = model(X)  \n",
    "\n",
    "        \n",
    "        loss = criterion(outputs,Y)\n",
    "#         print(loss)\n",
    "        \n",
    "        train_loss.append(loss.data.tolist())\n",
    "\n",
    "        \n",
    "        # Backward and optimize        \n",
    "        loss.backward()\n",
    "        \n",
    "        optimizer.step()\n",
    "\n",
    "        \n",
    "        if (i+1) % 100 == 0:\n",
    "            print('-'.center(60,'-'))       \n",
    "            \n",
    "            print (f'Epoch [{epoch+1}/{num_epochs}], Step [{i+1}/{n_total_steps}], Loss: {loss.item():.4f}')"
   ]
  },
  {
   "cell_type": "code",
   "execution_count": 95,
   "id": "43e08836",
   "metadata": {
    "ExecuteTime": {
     "end_time": "2022-03-25T16:32:32.381594Z",
     "start_time": "2022-03-25T16:32:32.280544Z"
    }
   },
   "outputs": [
    {
     "data": {
      "image/png": "[encoded data removed]",
      "text/plain": [
       "<Figure size 640x480 with 1 Axes>"
      ]
     },
     "metadata": {},
     "output_type": "display_data"
    }
   ],
   "source": [
    "plt.plot(train_loss,'-')\n",
    "plt.ylabel('loss')\n",
    "plt.xlabel('iterations')\n",
    "plt.title('Training loss vs Iterations')\n",
    "plt.show()\n"
   ]
  },
  {
   "cell_type": "markdown",
   "id": "134c4fbd",
   "metadata": {
    "heading_collapsed": true
   },
   "source": [
    "## Model 2"
   ]
  },
  {
   "cell_type": "code",
   "execution_count": 163,
   "id": "2cb03d62",
   "metadata": {
    "ExecuteTime": {
     "end_time": "2022-03-23T22:34:21.951746Z",
     "start_time": "2022-03-23T22:34:21.941119Z"
    },
    "hidden": true
   },
   "outputs": [],
   "source": [
    "class RNN(nn.Module):\n",
    "\n",
    "    def __init__(self, seq_len, num_classes, input_size, hidden_size, num_layers):\n",
    "        super().__init__()\n",
    "        self.seq_len = seq_len\n",
    "        self.num_layers = num_layers\n",
    "        self.input_size = input_size\n",
    "        self.num_classes = num_classes\n",
    "        self.hidden_size = hidden_size\n",
    "        self.rnn = nn.RNN(input_size, hidden_size, batch_first=True)\n",
    "        self.linear = nn.Linear(hidden_size, num_classes)\n",
    "\n",
    "    def forward(self, x):\n",
    "        # assuming batch_first = True for RNN cells\n",
    "        x = x.permute(1, 0, 2) \n",
    "        batch_size = x.size(1)\n",
    "        hidden = self._init_hidden(batch_size)\n",
    "        \n",
    "\n",
    "        rnn_out, _ = self.rnn(x, hidden)\n",
    "        linear_out = self.linear(rnn_out.view(-1, hidden_size))\n",
    "        return linear_out\n",
    "\n",
    "    def _init_hidden(self, batch_size):\n",
    "        return torch.zeros(batch_size, self.num_layers, self.hidden_size)"
   ]
  },
  {
   "cell_type": "code",
   "execution_count": 183,
   "id": "86c3ad66",
   "metadata": {
    "ExecuteTime": {
     "end_time": "2022-03-23T22:34:33.863289Z",
     "start_time": "2022-03-23T22:34:33.856831Z"
    },
    "hidden": true
   },
   "outputs": [],
   "source": [
    "# hyperparameters\n",
    "seq_len = 5    \n",
    "input_size = 7   \n",
    "batch_size = 5  \n",
    "num_layers = 1   \n",
    "num_classes = 7  \n",
    "hidden_size = 133  "
   ]
  },
  {
   "cell_type": "code",
   "execution_count": 184,
   "id": "15717716",
   "metadata": {
    "ExecuteTime": {
     "end_time": "2022-03-23T22:34:35.835670Z",
     "start_time": "2022-03-23T22:34:35.797765Z"
    },
    "hidden": true
   },
   "outputs": [
    {
     "ename": "RuntimeError",
     "evalue": "Expected hidden size (1, 5, 133), got [133, 1, 133]",
     "output_type": "error",
     "traceback": [
      "\u001b[0;31m---------------------------------------------------------------------------\u001b[0m",
      "\u001b[0;31mRuntimeError\u001b[0m                              Traceback (most recent call last)",
      "\u001b[0;32m<ipython-input-184-58af3c2cb17f>\u001b[0m in \u001b[0;36m<module>\u001b[0;34m\u001b[0m\n\u001b[1;32m      1\u001b[0m \u001b[0mmodel\u001b[0m \u001b[0;34m=\u001b[0m \u001b[0mRNN\u001b[0m\u001b[0;34m(\u001b[0m\u001b[0mseq_len\u001b[0m\u001b[0;34m,\u001b[0m \u001b[0mnum_classes\u001b[0m\u001b[0;34m,\u001b[0m \u001b[0minput_size\u001b[0m\u001b[0;34m,\u001b[0m \u001b[0mhidden_size\u001b[0m\u001b[0;34m,\u001b[0m \u001b[0mnum_layers\u001b[0m\u001b[0;34m)\u001b[0m\u001b[0;34m\u001b[0m\u001b[0;34m\u001b[0m\u001b[0m\n\u001b[0;32m----> 2\u001b[0;31m \u001b[0mlogits\u001b[0m \u001b[0;34m=\u001b[0m \u001b[0mmodel\u001b[0m\u001b[0;34m(\u001b[0m\u001b[0mX_Data\u001b[0m\u001b[0;34m)\u001b[0m\u001b[0;34m\u001b[0m\u001b[0;34m\u001b[0m\u001b[0m\n\u001b[0m\u001b[1;32m      3\u001b[0m \u001b[0mprint\u001b[0m\u001b[0;34m(\u001b[0m\u001b[0mlogits\u001b[0m\u001b[0;34m[\u001b[0m\u001b[0;36m0\u001b[0m\u001b[0;34m:\u001b[0m\u001b[0;36m7\u001b[0m\u001b[0;34m]\u001b[0m\u001b[0;34m)\u001b[0m\u001b[0;34m\u001b[0m\u001b[0;34m\u001b[0m\u001b[0m\n\u001b[1;32m      4\u001b[0m \u001b[0mprint\u001b[0m\u001b[0;34m(\u001b[0m\u001b[0mlogits\u001b[0m\u001b[0;34m.\u001b[0m\u001b[0msize\u001b[0m\u001b[0;34m(\u001b[0m\u001b[0;34m)\u001b[0m\u001b[0;34m)\u001b[0m\u001b[0;34m\u001b[0m\u001b[0;34m\u001b[0m\u001b[0m\n",
      "\u001b[0;32m~/anaconda3/envs/pcdet/lib/python3.7/site-packages/torch/nn/modules/module.py\u001b[0m in \u001b[0;36m_call_impl\u001b[0;34m(self, *input, **kwargs)\u001b[0m\n\u001b[1;32m    887\u001b[0m             \u001b[0mresult\u001b[0m \u001b[0;34m=\u001b[0m \u001b[0mself\u001b[0m\u001b[0;34m.\u001b[0m\u001b[0m_slow_forward\u001b[0m\u001b[0;34m(\u001b[0m\u001b[0;34m*\u001b[0m\u001b[0minput\u001b[0m\u001b[0;34m,\u001b[0m \u001b[0;34m**\u001b[0m\u001b[0mkwargs\u001b[0m\u001b[0;34m)\u001b[0m\u001b[0;34m\u001b[0m\u001b[0;34m\u001b[0m\u001b[0m\n\u001b[1;32m    888\u001b[0m         \u001b[0;32melse\u001b[0m\u001b[0;34m:\u001b[0m\u001b[0;34m\u001b[0m\u001b[0;34m\u001b[0m\u001b[0m\n\u001b[0;32m--> 889\u001b[0;31m             \u001b[0mresult\u001b[0m \u001b[0;34m=\u001b[0m \u001b[0mself\u001b[0m\u001b[0;34m.\u001b[0m\u001b[0mforward\u001b[0m\u001b[0;34m(\u001b[0m\u001b[0;34m*\u001b[0m\u001b[0minput\u001b[0m\u001b[0;34m,\u001b[0m \u001b[0;34m**\u001b[0m\u001b[0mkwargs\u001b[0m\u001b[0;34m)\u001b[0m\u001b[0;34m\u001b[0m\u001b[0;34m\u001b[0m\u001b[0m\n\u001b[0m\u001b[1;32m    890\u001b[0m         for hook in itertools.chain(\n\u001b[1;32m    891\u001b[0m                 \u001b[0m_global_forward_hooks\u001b[0m\u001b[0;34m.\u001b[0m\u001b[0mvalues\u001b[0m\u001b[0;34m(\u001b[0m\u001b[0;34m)\u001b[0m\u001b[0;34m,\u001b[0m\u001b[0;34m\u001b[0m\u001b[0;34m\u001b[0m\u001b[0m\n",
      "\u001b[0;32m<ipython-input-163-99bb578ae4aa>\u001b[0m in \u001b[0;36mforward\u001b[0;34m(self, x)\u001b[0m\n\u001b[1;32m     18\u001b[0m \u001b[0;34m\u001b[0m\u001b[0m\n\u001b[1;32m     19\u001b[0m \u001b[0;34m\u001b[0m\u001b[0m\n\u001b[0;32m---> 20\u001b[0;31m         \u001b[0mrnn_out\u001b[0m\u001b[0;34m,\u001b[0m \u001b[0m_\u001b[0m \u001b[0;34m=\u001b[0m \u001b[0mself\u001b[0m\u001b[0;34m.\u001b[0m\u001b[0mrnn\u001b[0m\u001b[0;34m(\u001b[0m\u001b[0mx\u001b[0m\u001b[0;34m,\u001b[0m \u001b[0mhidden\u001b[0m\u001b[0;34m)\u001b[0m\u001b[0;34m\u001b[0m\u001b[0;34m\u001b[0m\u001b[0m\n\u001b[0m\u001b[1;32m     21\u001b[0m         \u001b[0mlinear_out\u001b[0m \u001b[0;34m=\u001b[0m \u001b[0mself\u001b[0m\u001b[0;34m.\u001b[0m\u001b[0mlinear\u001b[0m\u001b[0;34m(\u001b[0m\u001b[0mrnn_out\u001b[0m\u001b[0;34m.\u001b[0m\u001b[0mview\u001b[0m\u001b[0;34m(\u001b[0m\u001b[0;34m-\u001b[0m\u001b[0;36m1\u001b[0m\u001b[0;34m,\u001b[0m \u001b[0mhidden_size\u001b[0m\u001b[0;34m)\u001b[0m\u001b[0;34m)\u001b[0m\u001b[0;34m\u001b[0m\u001b[0;34m\u001b[0m\u001b[0m\n\u001b[1;32m     22\u001b[0m         \u001b[0;32mreturn\u001b[0m \u001b[0mlinear_out\u001b[0m\u001b[0;34m\u001b[0m\u001b[0;34m\u001b[0m\u001b[0m\n",
      "\u001b[0;32m~/anaconda3/envs/pcdet/lib/python3.7/site-packages/torch/nn/modules/module.py\u001b[0m in \u001b[0;36m_call_impl\u001b[0;34m(self, *input, **kwargs)\u001b[0m\n\u001b[1;32m    887\u001b[0m             \u001b[0mresult\u001b[0m \u001b[0;34m=\u001b[0m \u001b[0mself\u001b[0m\u001b[0;34m.\u001b[0m\u001b[0m_slow_forward\u001b[0m\u001b[0;34m(\u001b[0m\u001b[0;34m*\u001b[0m\u001b[0minput\u001b[0m\u001b[0;34m,\u001b[0m \u001b[0;34m**\u001b[0m\u001b[0mkwargs\u001b[0m\u001b[0;34m)\u001b[0m\u001b[0;34m\u001b[0m\u001b[0;34m\u001b[0m\u001b[0m\n\u001b[1;32m    888\u001b[0m         \u001b[0;32melse\u001b[0m\u001b[0;34m:\u001b[0m\u001b[0;34m\u001b[0m\u001b[0;34m\u001b[0m\u001b[0m\n\u001b[0;32m--> 889\u001b[0;31m             \u001b[0mresult\u001b[0m \u001b[0;34m=\u001b[0m \u001b[0mself\u001b[0m\u001b[0;34m.\u001b[0m\u001b[0mforward\u001b[0m\u001b[0;34m(\u001b[0m\u001b[0;34m*\u001b[0m\u001b[0minput\u001b[0m\u001b[0;34m,\u001b[0m \u001b[0;34m**\u001b[0m\u001b[0mkwargs\u001b[0m\u001b[0;34m)\u001b[0m\u001b[0;34m\u001b[0m\u001b[0;34m\u001b[0m\u001b[0m\n\u001b[0m\u001b[1;32m    890\u001b[0m         for hook in itertools.chain(\n\u001b[1;32m    891\u001b[0m                 \u001b[0m_global_forward_hooks\u001b[0m\u001b[0;34m.\u001b[0m\u001b[0mvalues\u001b[0m\u001b[0;34m(\u001b[0m\u001b[0;34m)\u001b[0m\u001b[0;34m,\u001b[0m\u001b[0;34m\u001b[0m\u001b[0;34m\u001b[0m\u001b[0m\n",
      "\u001b[0;32m~/anaconda3/envs/pcdet/lib/python3.7/site-packages/torch/nn/modules/rnn.py\u001b[0m in \u001b[0;36mforward\u001b[0;34m(self, input, hx)\u001b[0m\n\u001b[1;32m    260\u001b[0m \u001b[0;34m\u001b[0m\u001b[0m\n\u001b[1;32m    261\u001b[0m         \u001b[0;32massert\u001b[0m \u001b[0mhx\u001b[0m \u001b[0;32mis\u001b[0m \u001b[0;32mnot\u001b[0m \u001b[0;32mNone\u001b[0m\u001b[0;34m\u001b[0m\u001b[0;34m\u001b[0m\u001b[0m\n\u001b[0;32m--> 262\u001b[0;31m         \u001b[0mself\u001b[0m\u001b[0;34m.\u001b[0m\u001b[0mcheck_forward_args\u001b[0m\u001b[0;34m(\u001b[0m\u001b[0minput\u001b[0m\u001b[0;34m,\u001b[0m \u001b[0mhx\u001b[0m\u001b[0;34m,\u001b[0m \u001b[0mbatch_sizes\u001b[0m\u001b[0;34m)\u001b[0m\u001b[0;34m\u001b[0m\u001b[0;34m\u001b[0m\u001b[0m\n\u001b[0m\u001b[1;32m    263\u001b[0m         \u001b[0m_impl\u001b[0m \u001b[0;34m=\u001b[0m \u001b[0m_rnn_impls\u001b[0m\u001b[0;34m[\u001b[0m\u001b[0mself\u001b[0m\u001b[0;34m.\u001b[0m\u001b[0mmode\u001b[0m\u001b[0;34m]\u001b[0m\u001b[0;34m\u001b[0m\u001b[0;34m\u001b[0m\u001b[0m\n\u001b[1;32m    264\u001b[0m         \u001b[0;32mif\u001b[0m \u001b[0mbatch_sizes\u001b[0m \u001b[0;32mis\u001b[0m \u001b[0;32mNone\u001b[0m\u001b[0;34m:\u001b[0m\u001b[0;34m\u001b[0m\u001b[0;34m\u001b[0m\u001b[0m\n",
      "\u001b[0;32m~/anaconda3/envs/pcdet/lib/python3.7/site-packages/torch/nn/modules/rnn.py\u001b[0m in \u001b[0;36mcheck_forward_args\u001b[0;34m(self, input, hidden, batch_sizes)\u001b[0m\n\u001b[1;32m    227\u001b[0m         \u001b[0mexpected_hidden_size\u001b[0m \u001b[0;34m=\u001b[0m \u001b[0mself\u001b[0m\u001b[0;34m.\u001b[0m\u001b[0mget_expected_hidden_size\u001b[0m\u001b[0;34m(\u001b[0m\u001b[0minput\u001b[0m\u001b[0;34m,\u001b[0m \u001b[0mbatch_sizes\u001b[0m\u001b[0;34m)\u001b[0m\u001b[0;34m\u001b[0m\u001b[0;34m\u001b[0m\u001b[0m\n\u001b[1;32m    228\u001b[0m \u001b[0;34m\u001b[0m\u001b[0m\n\u001b[0;32m--> 229\u001b[0;31m         \u001b[0mself\u001b[0m\u001b[0;34m.\u001b[0m\u001b[0mcheck_hidden_size\u001b[0m\u001b[0;34m(\u001b[0m\u001b[0mhidden\u001b[0m\u001b[0;34m,\u001b[0m \u001b[0mexpected_hidden_size\u001b[0m\u001b[0;34m)\u001b[0m\u001b[0;34m\u001b[0m\u001b[0;34m\u001b[0m\u001b[0m\n\u001b[0m\u001b[1;32m    230\u001b[0m \u001b[0;34m\u001b[0m\u001b[0m\n\u001b[1;32m    231\u001b[0m     \u001b[0;32mdef\u001b[0m \u001b[0mpermute_hidden\u001b[0m\u001b[0;34m(\u001b[0m\u001b[0mself\u001b[0m\u001b[0;34m,\u001b[0m \u001b[0mhx\u001b[0m\u001b[0;34m:\u001b[0m \u001b[0mTensor\u001b[0m\u001b[0;34m,\u001b[0m \u001b[0mpermutation\u001b[0m\u001b[0;34m:\u001b[0m \u001b[0mOptional\u001b[0m\u001b[0;34m[\u001b[0m\u001b[0mTensor\u001b[0m\u001b[0;34m]\u001b[0m\u001b[0;34m)\u001b[0m\u001b[0;34m:\u001b[0m\u001b[0;34m\u001b[0m\u001b[0;34m\u001b[0m\u001b[0m\n",
      "\u001b[0;32m~/anaconda3/envs/pcdet/lib/python3.7/site-packages/torch/nn/modules/rnn.py\u001b[0m in \u001b[0;36mcheck_hidden_size\u001b[0;34m(self, hx, expected_hidden_size, msg)\u001b[0m\n\u001b[1;32m    221\u001b[0m                           msg: str = 'Expected hidden size {}, got {}') -> None:\n\u001b[1;32m    222\u001b[0m         \u001b[0;32mif\u001b[0m \u001b[0mhx\u001b[0m\u001b[0;34m.\u001b[0m\u001b[0msize\u001b[0m\u001b[0;34m(\u001b[0m\u001b[0;34m)\u001b[0m \u001b[0;34m!=\u001b[0m \u001b[0mexpected_hidden_size\u001b[0m\u001b[0;34m:\u001b[0m\u001b[0;34m\u001b[0m\u001b[0;34m\u001b[0m\u001b[0m\n\u001b[0;32m--> 223\u001b[0;31m             \u001b[0;32mraise\u001b[0m \u001b[0mRuntimeError\u001b[0m\u001b[0;34m(\u001b[0m\u001b[0mmsg\u001b[0m\u001b[0;34m.\u001b[0m\u001b[0mformat\u001b[0m\u001b[0;34m(\u001b[0m\u001b[0mexpected_hidden_size\u001b[0m\u001b[0;34m,\u001b[0m \u001b[0mlist\u001b[0m\u001b[0;34m(\u001b[0m\u001b[0mhx\u001b[0m\u001b[0;34m.\u001b[0m\u001b[0msize\u001b[0m\u001b[0;34m(\u001b[0m\u001b[0;34m)\u001b[0m\u001b[0;34m)\u001b[0m\u001b[0;34m)\u001b[0m\u001b[0;34m)\u001b[0m\u001b[0;34m\u001b[0m\u001b[0;34m\u001b[0m\u001b[0m\n\u001b[0m\u001b[1;32m    224\u001b[0m \u001b[0;34m\u001b[0m\u001b[0m\n\u001b[1;32m    225\u001b[0m     \u001b[0;32mdef\u001b[0m \u001b[0mcheck_forward_args\u001b[0m\u001b[0;34m(\u001b[0m\u001b[0mself\u001b[0m\u001b[0;34m,\u001b[0m \u001b[0minput\u001b[0m\u001b[0;34m:\u001b[0m \u001b[0mTensor\u001b[0m\u001b[0;34m,\u001b[0m \u001b[0mhidden\u001b[0m\u001b[0;34m:\u001b[0m \u001b[0mTensor\u001b[0m\u001b[0;34m,\u001b[0m \u001b[0mbatch_sizes\u001b[0m\u001b[0;34m:\u001b[0m \u001b[0mOptional\u001b[0m\u001b[0;34m[\u001b[0m\u001b[0mTensor\u001b[0m\u001b[0;34m]\u001b[0m\u001b[0;34m)\u001b[0m\u001b[0;34m:\u001b[0m\u001b[0;34m\u001b[0m\u001b[0;34m\u001b[0m\u001b[0m\n",
      "\u001b[0;31mRuntimeError\u001b[0m: Expected hidden size (1, 5, 133), got [133, 1, 133]"
     ]
    }
   ],
   "source": [
    "model = RNN(seq_len, num_classes, input_size, hidden_size, num_layers)\n",
    "logits = model(X_Data)\n",
    "print(logits[0:7])\n",
    "print(logits.size())"
   ]
  },
  {
   "cell_type": "code",
   "execution_count": null,
   "id": "d4be3d34",
   "metadata": {
    "hidden": true
   },
   "outputs": [],
   "source": [
    "model = RNN(input_size, hidden_size, num_layers, num_classes)\n",
    "out = model(X_Data)\n"
   ]
  },
  {
   "cell_type": "markdown",
   "id": "05c32cc6",
   "metadata": {
    "heading_collapsed": true
   },
   "source": [
    "## Model 3"
   ]
  },
  {
   "cell_type": "code",
   "execution_count": 4,
   "id": "b686f400",
   "metadata": {
    "ExecuteTime": {
     "end_time": "2022-03-24T18:59:56.651980Z",
     "start_time": "2022-03-24T18:59:56.639337Z"
    },
    "hidden": true
   },
   "outputs": [],
   "source": [
    "class RNN(nn.Module):\n",
    "    def __init__(self, input_size, hidden_size, num_layers, num_classes):\n",
    "        \n",
    "        super(RNN, self).__init__()\n",
    "        \n",
    "        self.num_layers = num_layers\n",
    "        self.hidden_size = hidden_size\n",
    "        self.rnn = nn.RNN(input_size, hidden_size, num_layers, batch_first=True)\n",
    "               \n",
    "        self.fc = nn.Linear(hidden_size, num_classes)\n",
    "        \n",
    "    def forward(self, x):\n",
    "        # Set initial hidden states (and cell states for LSTM)\n",
    "        h0 = torch.zeros(self.num_layers, x.size(0), self.hidden_size)\n",
    "        #c0 = torch.zeros(self.num_layers, x.size(0), self.hidden_size).to(device) \n",
    "        \n",
    "        # x: (n, 28, 28), h0: (2, n, 128)\n",
    "        \n",
    "        # Forward propagate RNN\n",
    "        out, _ = self.rnn(x, h0)  \n",
    "        # or:\n",
    "        #out, _ = self.lstm(x, (h0,c0))  \n",
    "        \n",
    "        # out: tensor of shape (batch_size, seq_length, hidden_size)\n",
    "        # out: (n, 28, 128)\n",
    "        \n",
    "        # Decode the hidden state of the last time step\n",
    "        out = out[:, -1, :]\n",
    "        # out: (n, 128)\n",
    "         \n",
    "        out = self.fc(out)\n",
    "        # out: (n, 10)\n",
    "        return out"
   ]
  },
  {
   "cell_type": "code",
   "execution_count": 5,
   "id": "8d72bcfb",
   "metadata": {
    "ExecuteTime": {
     "end_time": "2022-03-24T18:59:59.145069Z",
     "start_time": "2022-03-24T18:59:59.140105Z"
    },
    "hidden": true
   },
   "outputs": [],
   "source": [
    "# Hyper-parameters \n",
    "# input_size = 784 # 28x28\n",
    "num_classes = 7\n",
    "num_epochs = 2\n",
    "batch_size = 133\n",
    "learning_rate = 0.001\n",
    "\n",
    "input_size = 7\n",
    "sequence_length = 5\n",
    "hidden_size = 128\n",
    "num_layers = 1"
   ]
  },
  {
   "cell_type": "code",
   "execution_count": 6,
   "id": "f403340f",
   "metadata": {
    "ExecuteTime": {
     "end_time": "2022-03-24T19:00:00.760109Z",
     "start_time": "2022-03-24T19:00:00.314594Z"
    },
    "hidden": true
   },
   "outputs": [
    {
     "name": "stdout",
     "output_type": "stream",
     "text": [
      "torch.Size([133, 5, 7])\n",
      "torch.Size([133, 7])\n"
     ]
    }
   ],
   "source": [
    "model = RNN(input_size, hidden_size, num_layers, num_classes)\n",
    "out = model(X_Data)\n",
    "print(X_Data.shape)\n",
    "print(out.shape)"
   ]
  },
  {
   "cell_type": "markdown",
   "id": "07892c97",
   "metadata": {},
   "source": [
    "# Loss and optimizer"
   ]
  },
  {
   "cell_type": "code",
   "execution_count": 78,
   "id": "588ebb5a",
   "metadata": {
    "ExecuteTime": {
     "end_time": "2022-03-24T20:51:35.945444Z",
     "start_time": "2022-03-24T20:51:35.941412Z"
    }
   },
   "outputs": [],
   "source": [
    "criterion = nn.MSELoss()\n",
    "optimizer = torch.optim.Adam(model.parameters(), lr=learning_rate)  "
   ]
  },
  {
   "cell_type": "markdown",
   "id": "25b81cef",
   "metadata": {
    "heading_collapsed": true
   },
   "source": [
    "# Train the model"
   ]
  },
  {
   "cell_type": "markdown",
   "id": "5b7ad937",
   "metadata": {
    "heading_collapsed": true,
    "hidden": true
   },
   "source": [
    "## Train Data"
   ]
  },
  {
   "cell_type": "code",
   "execution_count": 8,
   "id": "76bd8220",
   "metadata": {
    "ExecuteTime": {
     "end_time": "2022-03-24T19:00:13.785957Z",
     "start_time": "2022-03-24T19:00:13.776682Z"
    },
    "hidden": true
   },
   "outputs": [
    {
     "name": "stdout",
     "output_type": "stream",
     "text": [
      "torch.Size([125, 5, 7])\n",
      "torch.Size([125, 7])\n"
     ]
    }
   ],
   "source": [
    "data_x = X_Data[0:125]\n",
    "data_y = Y_Data[0:125]\n",
    "\n",
    "print(data_x.shape)\n",
    "print(data_y.shape)\n"
   ]
  },
  {
   "cell_type": "code",
   "execution_count": 76,
   "id": "eb984fb6",
   "metadata": {
    "ExecuteTime": {
     "end_time": "2022-03-24T20:51:00.047905Z",
     "start_time": "2022-03-24T20:51:00.040384Z"
    },
    "hidden": true,
    "scrolled": true
   },
   "outputs": [
    {
     "name": "stdout",
     "output_type": "stream",
     "text": [
      "torch.Size([25, 5, 5, 7])\n",
      "torch.Size([25, 5, 7])\n"
     ]
    }
   ],
   "source": [
    "# torch.Size([25, 5, 5, 7])\n",
    "# torch.Size([25, 5, 7])\n",
    "\n",
    "batch_size = 125\n",
    "lote = 5\n",
    "t = data_x.reshape(int(batch_size/lote),5,5,7)\n",
    "o = data_y.reshape(int(batch_size/lote),lote,7)\n",
    "print(t.shape)\n",
    "print(o.shape)"
   ]
  },
  {
   "cell_type": "code",
   "execution_count": 67,
   "id": "483db87a",
   "metadata": {
    "ExecuteTime": {
     "end_time": "2022-03-24T19:44:48.138357Z",
     "start_time": "2022-03-24T19:44:48.122375Z"
    },
    "hidden": true,
    "scrolled": true
   },
   "outputs": [
    {
     "ename": "RuntimeError",
     "evalue": "shape '[133, 1, 7]' is invalid for input of size 4655",
     "output_type": "error",
     "traceback": [
      "\u001b[0;31m---------------------------------------------------------------------------\u001b[0m",
      "\u001b[0;31mRuntimeError\u001b[0m                              Traceback (most recent call last)",
      "\u001b[0;32m<ipython-input-67-fbfb1984d202>\u001b[0m in \u001b[0;36m<module>\u001b[0;34m\u001b[0m\n\u001b[1;32m      2\u001b[0m \u001b[0mlote\u001b[0m \u001b[0;34m=\u001b[0m \u001b[0;36m1\u001b[0m\u001b[0;34m\u001b[0m\u001b[0;34m\u001b[0m\u001b[0m\n\u001b[1;32m      3\u001b[0m \u001b[0mt\u001b[0m \u001b[0;34m=\u001b[0m \u001b[0mX_Data\u001b[0m\u001b[0;34m.\u001b[0m\u001b[0mreshape\u001b[0m\u001b[0;34m(\u001b[0m\u001b[0mbatch_size\u001b[0m\u001b[0;34m,\u001b[0m\u001b[0mlote\u001b[0m\u001b[0;34m,\u001b[0m\u001b[0;36m5\u001b[0m\u001b[0;34m,\u001b[0m\u001b[0;36m7\u001b[0m\u001b[0;34m)\u001b[0m\u001b[0;34m\u001b[0m\u001b[0;34m\u001b[0m\u001b[0m\n\u001b[0;32m----> 4\u001b[0;31m \u001b[0mo\u001b[0m \u001b[0;34m=\u001b[0m \u001b[0mX_Data\u001b[0m\u001b[0;34m.\u001b[0m\u001b[0mreshape\u001b[0m\u001b[0;34m(\u001b[0m\u001b[0mint\u001b[0m\u001b[0;34m(\u001b[0m\u001b[0mbatch_size\u001b[0m\u001b[0;34m/\u001b[0m\u001b[0mlote\u001b[0m\u001b[0;34m)\u001b[0m\u001b[0;34m,\u001b[0m\u001b[0mlote\u001b[0m\u001b[0;34m,\u001b[0m\u001b[0;36m7\u001b[0m\u001b[0;34m)\u001b[0m\u001b[0;34m\u001b[0m\u001b[0;34m\u001b[0m\u001b[0m\n\u001b[0m\u001b[1;32m      5\u001b[0m \u001b[0mprint\u001b[0m\u001b[0;34m(\u001b[0m\u001b[0mt\u001b[0m\u001b[0;34m.\u001b[0m\u001b[0mshape\u001b[0m\u001b[0;34m)\u001b[0m\u001b[0;34m\u001b[0m\u001b[0;34m\u001b[0m\u001b[0m\n\u001b[1;32m      6\u001b[0m \u001b[0mprint\u001b[0m\u001b[0;34m(\u001b[0m\u001b[0mo\u001b[0m\u001b[0;34m.\u001b[0m\u001b[0mshape\u001b[0m\u001b[0;34m)\u001b[0m\u001b[0;34m\u001b[0m\u001b[0;34m\u001b[0m\u001b[0m\n",
      "\u001b[0;31mRuntimeError\u001b[0m: shape '[133, 1, 7]' is invalid for input of size 4655"
     ]
    }
   ],
   "source": [
    "batch_size = len(X_Data)\n",
    "lote = 1\n",
    "t = X_Data.reshape(int(batch_size/lote),lote,5,7)\n",
    "o = X_Data.reshape(int(batch_size/lote),lote,7)\n",
    "print(t.shape)\n",
    "print(o.shape)"
   ]
  },
  {
   "cell_type": "markdown",
   "id": "5046893f",
   "metadata": {
    "hidden": true
   },
   "source": [
    "## Train"
   ]
  },
  {
   "cell_type": "code",
   "execution_count": 77,
   "id": "3a371709",
   "metadata": {
    "ExecuteTime": {
     "end_time": "2022-03-24T20:51:19.367215Z",
     "start_time": "2022-03-24T20:51:19.362325Z"
    },
    "hidden": true,
    "scrolled": true
   },
   "outputs": [],
   "source": [
    "# initializing lists to store losses over epochs:\n",
    "train_loss = []\n",
    "test_loss = []\n",
    "train_iter = []\n",
    "test_iter = []"
   ]
  },
  {
   "cell_type": "code",
   "execution_count": 111,
   "id": "7e4dd1d2",
   "metadata": {
    "ExecuteTime": {
     "end_time": "2022-03-24T21:03:38.834178Z",
     "start_time": "2022-03-24T21:03:38.728707Z"
    },
    "code_folding": [],
    "hidden": true
   },
   "outputs": [
    {
     "name": "stdout",
     "output_type": "stream",
     "text": [
      "------------------------------------------------------------\n",
      "tensor(0.2193, grad_fn=<MseLossBackward>)\n",
      "------------------------------------------------------------\n",
      "tensor(0.2786, grad_fn=<MseLossBackward>)\n",
      "------------------------------------------------------------\n",
      "tensor(0.6638, grad_fn=<MseLossBackward>)\n",
      "------------------------------------------------------------\n",
      "tensor(2.5502, grad_fn=<MseLossBackward>)\n",
      "------------------------------------------------------------\n",
      "tensor(2.1736, grad_fn=<MseLossBackward>)\n",
      "------------------------------------------------------------\n",
      "tensor(8.2186, grad_fn=<MseLossBackward>)\n",
      "------------------------------------------------------------\n",
      "tensor(0.0303, grad_fn=<MseLossBackward>)\n",
      "------------------------------------------------------------\n",
      "tensor(0.0244, grad_fn=<MseLossBackward>)\n",
      "------------------------------------------------------------\n",
      "tensor(0.1203, grad_fn=<MseLossBackward>)\n",
      "------------------------------------------------------------\n",
      "tensor(0.1476, grad_fn=<MseLossBackward>)\n",
      "------------------------------------------------------------\n",
      "tensor(0.1566, grad_fn=<MseLossBackward>)\n",
      "------------------------------------------------------------\n",
      "tensor(0.1661, grad_fn=<MseLossBackward>)\n",
      "------------------------------------------------------------\n",
      "tensor(2.9446, grad_fn=<MseLossBackward>)\n",
      "------------------------------------------------------------\n",
      "tensor(0.8476, grad_fn=<MseLossBackward>)\n",
      "------------------------------------------------------------\n",
      "tensor(0.3551, grad_fn=<MseLossBackward>)\n",
      "------------------------------------------------------------\n",
      "tensor(0.0327, grad_fn=<MseLossBackward>)\n",
      "------------------------------------------------------------\n",
      "tensor(0.3482, grad_fn=<MseLossBackward>)\n",
      "------------------------------------------------------------\n",
      "tensor(0.3185, grad_fn=<MseLossBackward>)\n",
      "------------------------------------------------------------\n",
      "tensor(0.4650, grad_fn=<MseLossBackward>)\n",
      "------------------------------------------------------------\n",
      "tensor(0.2348, grad_fn=<MseLossBackward>)\n",
      "------------------------------------------------------------\n",
      "tensor(0.2384, grad_fn=<MseLossBackward>)\n",
      "------------------------------------------------------------\n",
      "tensor(0.1169, grad_fn=<MseLossBackward>)\n",
      "------------------------------------------------------------\n",
      "tensor(0.0883, grad_fn=<MseLossBackward>)\n",
      "------------------------------------------------------------\n",
      "tensor(0.3605, grad_fn=<MseLossBackward>)\n",
      "------------------------------------------------------------\n",
      "tensor(0.1977, grad_fn=<MseLossBackward>)\n",
      "------------------------------------------------------------\n",
      "tensor(0.2517, grad_fn=<MseLossBackward>)\n",
      "------------------------------------------------------------\n",
      "tensor(0.2370, grad_fn=<MseLossBackward>)\n",
      "------------------------------------------------------------\n",
      "tensor(0.5990, grad_fn=<MseLossBackward>)\n",
      "------------------------------------------------------------\n",
      "tensor(2.3781, grad_fn=<MseLossBackward>)\n",
      "------------------------------------------------------------\n",
      "tensor(1.9016, grad_fn=<MseLossBackward>)\n",
      "------------------------------------------------------------\n",
      "tensor(7.6564, grad_fn=<MseLossBackward>)\n",
      "------------------------------------------------------------\n",
      "tensor(0.0294, grad_fn=<MseLossBackward>)\n",
      "------------------------------------------------------------\n",
      "tensor(0.0324, grad_fn=<MseLossBackward>)\n",
      "------------------------------------------------------------\n",
      "tensor(0.1288, grad_fn=<MseLossBackward>)\n",
      "------------------------------------------------------------\n",
      "tensor(0.1809, grad_fn=<MseLossBackward>)\n",
      "------------------------------------------------------------\n",
      "tensor(0.1655, grad_fn=<MseLossBackward>)\n",
      "------------------------------------------------------------\n",
      "tensor(0.1559, grad_fn=<MseLossBackward>)\n",
      "------------------------------------------------------------\n",
      "tensor(2.7456, grad_fn=<MseLossBackward>)\n",
      "------------------------------------------------------------\n",
      "tensor(0.8620, grad_fn=<MseLossBackward>)\n",
      "------------------------------------------------------------\n",
      "tensor(0.3306, grad_fn=<MseLossBackward>)\n",
      "------------------------------------------------------------\n",
      "tensor(0.0140, grad_fn=<MseLossBackward>)\n",
      "------------------------------------------------------------\n",
      "tensor(0.3061, grad_fn=<MseLossBackward>)\n",
      "------------------------------------------------------------\n",
      "tensor(0.5885, grad_fn=<MseLossBackward>)\n",
      "------------------------------------------------------------\n",
      "tensor(0.6483, grad_fn=<MseLossBackward>)\n",
      "------------------------------------------------------------\n",
      "tensor(0.2247, grad_fn=<MseLossBackward>)\n",
      "------------------------------------------------------------\n",
      "tensor(0.2430, grad_fn=<MseLossBackward>)\n",
      "------------------------------------------------------------\n",
      "tensor(0.0709, grad_fn=<MseLossBackward>)\n",
      "------------------------------------------------------------\n",
      "tensor(0.0853, grad_fn=<MseLossBackward>)\n",
      "------------------------------------------------------------\n",
      "tensor(0.2498, grad_fn=<MseLossBackward>)\n",
      "------------------------------------------------------------\n",
      "tensor(0.1560, grad_fn=<MseLossBackward>)\n"
     ]
    }
   ],
   "source": [
    "# initializing lists to store losses over epochs:\n",
    "train_loss = []\n",
    "test_loss = []\n",
    "train_iter = []\n",
    "test_iter = []\n",
    "\n",
    "n_total_steps = len(t)\n",
    "\n",
    "for epoch in range(num_epochs):\n",
    "    \n",
    "    for i,(X, Y) in enumerate(zip(t, o)):\n",
    "        \n",
    "        print('-'.center(60,'-'))       \n",
    "        optimizer.zero_grad()\n",
    "        # Forward pass\n",
    "        outputs = model(X)  \n",
    "#         print(outputs.shape,labels.shape)\n",
    "#         print(outputs,labels.shape)\n",
    "        \n",
    "        loss = criterion(outputs,Y)\n",
    "        print(loss)\n",
    "        \n",
    "        # Backward and optimize        \n",
    "        loss.backward()\n",
    "        \n",
    "        optimizer.step()\n",
    "       \n",
    "        train_loss.append(loss.data.tolist())\n",
    "        \n",
    "        if (i+1) % 100 == 0:\n",
    "            \n",
    "            print ('Epoch [{}/{}], Step [{}/{}], Loss: {:.4f}' \n",
    "                   .format(epoch+1, num_epochs, i+1, n_total_steps, loss.item()))\n",
    "            \n",
    "        \n",
    "        \n",
    "        "
   ]
  },
  {
   "cell_type": "code",
   "execution_count": null,
   "id": "0cf61d23",
   "metadata": {
    "hidden": true
   },
   "outputs": [],
   "source": []
  },
  {
   "cell_type": "code",
   "execution_count": null,
   "id": "7d7155bc",
   "metadata": {
    "hidden": true
   },
   "outputs": [],
   "source": []
  },
  {
   "cell_type": "code",
   "execution_count": 113,
   "id": "fe36e349",
   "metadata": {
    "ExecuteTime": {
     "end_time": "2022-03-24T21:09:30.978166Z",
     "start_time": "2022-03-24T21:09:30.971854Z"
    },
    "hidden": true
   },
   "outputs": [
    {
     "data": {
      "text/plain": [
       "tensor([5, 5, 5, 5, 5])"
      ]
     },
     "execution_count": 113,
     "metadata": {},
     "output_type": "execute_result"
    }
   ],
   "source": [
    "predicted"
   ]
  },
  {
   "cell_type": "markdown",
   "id": "fd9addd7",
   "metadata": {},
   "source": [
    "# Test the model"
   ]
  },
  {
   "cell_type": "code",
   "execution_count": 64,
   "id": "d5e4c92e",
   "metadata": {
    "ExecuteTime": {
     "end_time": "2022-03-25T15:45:13.319093Z",
     "start_time": "2022-03-25T15:45:13.274099Z"
    }
   },
   "outputs": [
    {
     "name": "stdout",
     "output_type": "stream",
     "text": [
      "Test Accuracy of the model on the 10000 test images: 0.0 %\n"
     ]
    }
   ],
   "source": [
    "model.eval()\n",
    "with torch.no_grad():\n",
    "    \n",
    "    correct = 0\n",
    "    total = 0\n",
    "\n",
    "    for i,(X, Y) in enumerate(zip(t, o)):\n",
    "\n",
    "        inputs = X\n",
    "        labels = Y\n",
    "        outputs = model(inputs)\n",
    "        predicted = outputs.data\n",
    "        total += labels.size(0)\n",
    "        correct += (predicted == labels).sum().item()\n",
    "\n",
    "    print('Test Accuracy of the model on the 10000 test images: {} %'.format(100 * correct / total)) "
   ]
  },
  {
   "cell_type": "code",
   "execution_count": 103,
   "id": "f22129cd",
   "metadata": {
    "ExecuteTime": {
     "end_time": "2022-03-25T16:35:23.753319Z",
     "start_time": "2022-03-25T16:35:23.747309Z"
    }
   },
   "outputs": [
    {
     "data": {
      "text/plain": [
       "torch.Size([1, 5, 7])"
      ]
     },
     "execution_count": 103,
     "metadata": {},
     "output_type": "execute_result"
    }
   ],
   "source": [
    "X_test[1].shape"
   ]
  },
  {
   "cell_type": "code",
   "execution_count": 104,
   "id": "3c141955",
   "metadata": {
    "ExecuteTime": {
     "end_time": "2022-03-25T16:35:29.228538Z",
     "start_time": "2022-03-25T16:35:29.222582Z"
    }
   },
   "outputs": [
    {
     "name": "stdout",
     "output_type": "stream",
     "text": [
      "torch.Size([1, 5, 7])\n",
      "tensor([[[ 1.5000,  1.6750,  4.0267, -5.0587,  1.7490, 23.0131,  1.4844],\n",
      "         [ 1.5000,  1.6750,  4.0267, -5.4528,  1.7523, 22.3591,  1.4661],\n",
      "         [ 1.5000,  1.6750,  4.0267, -5.8468,  1.7556, 21.7051,  1.4479],\n",
      "         [ 1.5000,  1.6750,  4.0267, -6.2329,  1.7587, 20.9865,  1.4297],\n",
      "         [ 1.5000,  1.6750,  4.0267, -6.6190,  1.7619, 20.2679,  1.4115]]])\n"
     ]
    }
   ],
   "source": [
    "ee = X_test[1].reshape(1,5,7)\n",
    "print(ee.shape)\n",
    "print(ee)"
   ]
  },
  {
   "cell_type": "code",
   "execution_count": 105,
   "id": "1d34053f",
   "metadata": {
    "ExecuteTime": {
     "end_time": "2022-03-25T16:35:39.610291Z",
     "start_time": "2022-03-25T16:35:39.603322Z"
    }
   },
   "outputs": [
    {
     "data": {
      "text/plain": [
       "tensor([[ 1.6049,  1.6089,  4.1472, -6.7411,  1.9087, 19.5274,  1.4149]],\n",
       "       grad_fn=<AddmmBackward>)"
      ]
     },
     "execution_count": 105,
     "metadata": {},
     "output_type": "execute_result"
    }
   ],
   "source": [
    "outputs = model(ee)\n",
    "outputs"
   ]
  },
  {
   "cell_type": "code",
   "execution_count": null,
   "id": "783670bb",
   "metadata": {},
   "outputs": [],
   "source": []
  },
  {
   "cell_type": "markdown",
   "id": "93c7edb8",
   "metadata": {},
   "source": [
    "# Save the model checkpoint"
   ]
  },
  {
   "cell_type": "code",
   "execution_count": 106,
   "id": "e7a81c30",
   "metadata": {
    "ExecuteTime": {
     "end_time": "2022-03-25T16:35:59.804966Z",
     "start_time": "2022-03-25T16:35:59.697730Z"
    }
   },
   "outputs": [],
   "source": [
    "# torch.save(model.state_dict(), 'model.ckpt')"
   ]
  },
  {
   "cell_type": "code",
   "execution_count": 110,
   "id": "dcdbace1",
   "metadata": {
    "ExecuteTime": {
     "end_time": "2022-03-25T16:49:32.154220Z",
     "start_time": "2022-03-25T16:49:32.148420Z"
    }
   },
   "outputs": [],
   "source": [
    "torch.save({'epoch': epoch,\n",
    "            'model_state_dict': model.state_dict(),\n",
    "            'optimizer_state_dict': optimizer.state_dict(),\n",
    "            'loss': loss,   \n",
    "            },'model.pth')"
   ]
  },
  {
   "cell_type": "code",
   "execution_count": null,
   "id": "0bf72824",
   "metadata": {},
   "outputs": [],
   "source": []
  }
 ],
 "metadata": {
  "kernelspec": {
   "display_name": "pcdet",
   "language": "python",
   "name": "pcdet"
  },
  "language_info": {
   "codemirror_mode": {
    "name": "ipython",
    "version": 3
   },
   "file_extension": ".py",
   "mimetype": "text/x-python",
   "name": "python",
   "nbconvert_exporter": "python",
   "pygments_lexer": "ipython3",
   "version": "3.7.7"
  },
  "toc": {
   "base_numbering": 1,
   "nav_menu": {},
   "number_sections": true,
   "sideBar": true,
   "skip_h1_title": false,
   "title_cell": "Table of Contents",
   "title_sidebar": "Contents",
   "toc_cell": false,
   "toc_position": {
    "height": "calc(100% - 180px)",
    "left": "10px",
    "top": "150px",
    "width": "240px"
   },
   "toc_section_display": true,
   "toc_window_display": true
  },
  "varInspector": {
   "cols": {
    "lenName": 16,
    "lenType": 16,
    "lenVar": 40
   },
   "kernels_config": {
    "python": {
     "delete_cmd_postfix": "",
     "delete_cmd_prefix": "del ",
     "library": "var_list.py",
     "varRefreshCmd": "print(var_dic_list())"
    },
    "r": {
     "delete_cmd_postfix": ") ",
     "delete_cmd_prefix": "rm(",
     "library": "var_list.r",
     "varRefreshCmd": "cat(var_dic_list()) "
    }
   },
   "types_to_exclude": [
    "module",
    "function",
    "builtin_function_or_method",
    "instance",
    "_Feature"
   ],
   "window_display": false
  }
 },
 "nbformat": 4,
 "nbformat_minor": 5
}
